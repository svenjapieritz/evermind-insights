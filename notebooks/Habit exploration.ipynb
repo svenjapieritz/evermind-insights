{
 "cells": [
  {
   "cell_type": "code",
   "execution_count": 1,
   "metadata": {},
   "outputs": [
    {
     "name": "stderr",
     "output_type": "stream",
     "text": [
      "/Users/yc00123/.virtualenvs/py3.6.8-data-access/lib/python3.6/site-packages/pandas/compat/__init__.py:117: UserWarning: Could not import the lzma module. Your installed Python is incomplete. Attempting to use lzma compression will result in a RuntimeError.\n",
      "  warnings.warn(msg)\n"
     ]
    },
    {
     "data": {
      "text/plain": [
       "686823"
      ]
     },
     "execution_count": 1,
     "metadata": {},
     "output_type": "execute_result"
    }
   ],
   "source": [
    "# Import of the data \n",
    "# This can take a while \n",
    "\n",
    "import pyspark.sql.types as T\n",
    "import pyspark.sql.functions as F\n",
    "from pyspark.sql import Window\n",
    "import pandas as pd\n",
    "\n",
    "DAU_SCHEMA = T.StructType([\n",
    "    T.StructField('userId', T.StringType()),\n",
    "    T.StructField('createdAt', T.StringType()),\n",
    "    T.StructField(\n",
    "        'data', T.StructType([\n",
    "            T.StructField('activity-title', T.StringType()),\n",
    "        ]),\n",
    "    ),\n",
    "])\n",
    "\n",
    "PATH = \"s3a://alpha-health-pro/red/evermind/events/2020/*/*/*/*\"\n",
    "evermindDF_raw = spark.read.schema(schema=DAU_SCHEMA).json(PATH)\n",
    "evermindDF_raw.count()"
   ]
  },
  {
   "cell_type": "code",
   "execution_count": 2,
   "metadata": {},
   "outputs": [],
   "source": [
    "df = evermindDF_raw\\\n",
    "    .withColumn(\"date\", F.date_format(F.to_timestamp(F.col(\"createdAt\")), \"yyyy-MM-dd\"))\\\n",
    "    .toPandas()"
   ]
  },
  {
   "cell_type": "code",
   "execution_count": 3,
   "metadata": {},
   "outputs": [],
   "source": [
    "df.dropna(subset = ['data'], inplace=True)\n",
    "\n",
    "def get_data(x):\n",
    "    return x[0]\n",
    "\n",
    "df['activity'] = df['data'].apply(lambda x: get_data(x))"
   ]
  },
  {
   "cell_type": "code",
   "execution_count": 4,
   "metadata": {},
   "outputs": [],
   "source": [
    "import datetime as dt\n",
    "df['createdAt']= pd.to_datetime(df['createdAt'], utc=True) \n",
    "df['hour'] = df['createdAt'].dt.hour"
   ]
  },
  {
   "cell_type": "code",
   "execution_count": 5,
   "metadata": {},
   "outputs": [
    {
     "data": {
      "text/html": [
       "<div>\n",
       "<style scoped>\n",
       "    .dataframe tbody tr th:only-of-type {\n",
       "        vertical-align: middle;\n",
       "    }\n",
       "\n",
       "    .dataframe tbody tr th {\n",
       "        vertical-align: top;\n",
       "    }\n",
       "\n",
       "    .dataframe thead th {\n",
       "        text-align: right;\n",
       "    }\n",
       "</style>\n",
       "<table border=\"1\" class=\"dataframe\">\n",
       "  <thead>\n",
       "    <tr style=\"text-align: right;\">\n",
       "      <th></th>\n",
       "      <th>activity</th>\n",
       "      <th>userId</th>\n",
       "      <th>count</th>\n",
       "    </tr>\n",
       "  </thead>\n",
       "  <tbody>\n",
       "    <tr>\n",
       "      <th>7519</th>\n",
       "      <td>Keeping a thought record</td>\n",
       "      <td>a03308ca-fbaf-4265-8257-b6ecf7ec4d40</td>\n",
       "      <td>24</td>\n",
       "    </tr>\n",
       "    <tr>\n",
       "      <th>9657</th>\n",
       "      <td>Positive thinking - people</td>\n",
       "      <td>98f3942d-c356-48c2-946e-02f91726e9b7</td>\n",
       "      <td>22</td>\n",
       "    </tr>\n",
       "    <tr>\n",
       "      <th>9123</th>\n",
       "      <td>Positive thinking - achievements</td>\n",
       "      <td>98f3942d-c356-48c2-946e-02f91726e9b7</td>\n",
       "      <td>22</td>\n",
       "    </tr>\n",
       "    <tr>\n",
       "      <th>16439</th>\n",
       "      <td>Waves</td>\n",
       "      <td>a7208087-c10f-4080-8b6a-e9738a530a54</td>\n",
       "      <td>21</td>\n",
       "    </tr>\n",
       "    <tr>\n",
       "      <th>9367</th>\n",
       "      <td>Positive thinking - gratitude</td>\n",
       "      <td>98f3942d-c356-48c2-946e-02f91726e9b7</td>\n",
       "      <td>21</td>\n",
       "    </tr>\n",
       "    <tr>\n",
       "      <th>...</th>\n",
       "      <td>...</td>\n",
       "      <td>...</td>\n",
       "      <td>...</td>\n",
       "    </tr>\n",
       "    <tr>\n",
       "      <th>6745</th>\n",
       "      <td>Keep stress in check while working from home</td>\n",
       "      <td>85011db6-f1c9-4e41-afd2-4ee09ef93258</td>\n",
       "      <td>1</td>\n",
       "    </tr>\n",
       "    <tr>\n",
       "      <th>6747</th>\n",
       "      <td>Keep stress in check while working from home</td>\n",
       "      <td>85fd5b61-3ad7-492f-b03c-2708d34a8e98</td>\n",
       "      <td>1</td>\n",
       "    </tr>\n",
       "    <tr>\n",
       "      <th>6748</th>\n",
       "      <td>Keep stress in check while working from home</td>\n",
       "      <td>86246e0f-960b-4eb1-96f0-51916a2f9396</td>\n",
       "      <td>1</td>\n",
       "    </tr>\n",
       "    <tr>\n",
       "      <th>6750</th>\n",
       "      <td>Keep stress in check while working from home</td>\n",
       "      <td>8792821f-7042-4f3f-99e6-a01de0c579d5</td>\n",
       "      <td>1</td>\n",
       "    </tr>\n",
       "    <tr>\n",
       "      <th>17984</th>\n",
       "      <td>Your night ritual</td>\n",
       "      <td>fe7a1ca2-f62b-4e3c-99a9-cb82dbfc6295</td>\n",
       "      <td>1</td>\n",
       "    </tr>\n",
       "  </tbody>\n",
       "</table>\n",
       "<p>17985 rows × 3 columns</p>\n",
       "</div>"
      ],
      "text/plain": [
       "                                           activity  \\\n",
       "7519                       Keeping a thought record   \n",
       "9657                     Positive thinking - people   \n",
       "9123               Positive thinking - achievements   \n",
       "16439                                         Waves   \n",
       "9367                  Positive thinking - gratitude   \n",
       "...                                             ...   \n",
       "6745   Keep stress in check while working from home   \n",
       "6747   Keep stress in check while working from home   \n",
       "6748   Keep stress in check while working from home   \n",
       "6750   Keep stress in check while working from home   \n",
       "17984                             Your night ritual   \n",
       "\n",
       "                                     userId  count  \n",
       "7519   a03308ca-fbaf-4265-8257-b6ecf7ec4d40     24  \n",
       "9657   98f3942d-c356-48c2-946e-02f91726e9b7     22  \n",
       "9123   98f3942d-c356-48c2-946e-02f91726e9b7     22  \n",
       "16439  a7208087-c10f-4080-8b6a-e9738a530a54     21  \n",
       "9367   98f3942d-c356-48c2-946e-02f91726e9b7     21  \n",
       "...                                     ...    ...  \n",
       "6745   85011db6-f1c9-4e41-afd2-4ee09ef93258      1  \n",
       "6747   85fd5b61-3ad7-492f-b03c-2708d34a8e98      1  \n",
       "6748   86246e0f-960b-4eb1-96f0-51916a2f9396      1  \n",
       "6750   8792821f-7042-4f3f-99e6-a01de0c579d5      1  \n",
       "17984  fe7a1ca2-f62b-4e3c-99a9-cb82dbfc6295      1  \n",
       "\n",
       "[17985 rows x 3 columns]"
      ]
     },
     "execution_count": 5,
     "metadata": {},
     "output_type": "execute_result"
    }
   ],
   "source": [
    "df3 = df.groupby(['activity', 'userId'])\n",
    "df3 = df3['date'].nunique().reset_index(name=\"count\")\n",
    "\n",
    "df3.sort_values(['count'], ascending = False)"
   ]
  },
  {
   "cell_type": "code",
   "execution_count": 6,
   "metadata": {},
   "outputs": [
    {
     "data": {
      "text/html": [
       "<div>\n",
       "<style scoped>\n",
       "    .dataframe tbody tr th:only-of-type {\n",
       "        vertical-align: middle;\n",
       "    }\n",
       "\n",
       "    .dataframe tbody tr th {\n",
       "        vertical-align: top;\n",
       "    }\n",
       "\n",
       "    .dataframe thead th {\n",
       "        text-align: right;\n",
       "    }\n",
       "</style>\n",
       "<table border=\"1\" class=\"dataframe\">\n",
       "  <thead>\n",
       "    <tr style=\"text-align: right;\">\n",
       "      <th></th>\n",
       "      <th>activity</th>\n",
       "      <th>mean_repetition</th>\n",
       "    </tr>\n",
       "  </thead>\n",
       "  <tbody>\n",
       "    <tr>\n",
       "      <th>30</th>\n",
       "      <td>Keeping a thought record</td>\n",
       "      <td>3.110577</td>\n",
       "    </tr>\n",
       "    <tr>\n",
       "      <th>40</th>\n",
       "      <td>Positive thinking - gratitude</td>\n",
       "      <td>2.628931</td>\n",
       "    </tr>\n",
       "    <tr>\n",
       "      <th>84</th>\n",
       "      <td>Working on your bad habits</td>\n",
       "      <td>2.555556</td>\n",
       "    </tr>\n",
       "    <tr>\n",
       "      <th>39</th>\n",
       "      <td>Positive thinking - achievements</td>\n",
       "      <td>2.525000</td>\n",
       "    </tr>\n",
       "    <tr>\n",
       "      <th>45</th>\n",
       "      <td>Put your worries to bed</td>\n",
       "      <td>2.460317</td>\n",
       "    </tr>\n",
       "    <tr>\n",
       "      <th>...</th>\n",
       "      <td>...</td>\n",
       "      <td>...</td>\n",
       "    </tr>\n",
       "    <tr>\n",
       "      <th>56</th>\n",
       "      <td>Reviewing your bad sleep habits</td>\n",
       "      <td>1.142857</td>\n",
       "    </tr>\n",
       "    <tr>\n",
       "      <th>35</th>\n",
       "      <td>Moving forward</td>\n",
       "      <td>1.083333</td>\n",
       "    </tr>\n",
       "    <tr>\n",
       "      <th>37</th>\n",
       "      <td>Myths about sleep</td>\n",
       "      <td>1.074074</td>\n",
       "    </tr>\n",
       "    <tr>\n",
       "      <th>9</th>\n",
       "      <td>Challenging thoughts on sleep</td>\n",
       "      <td>1.000000</td>\n",
       "    </tr>\n",
       "    <tr>\n",
       "      <th>54</th>\n",
       "      <td>Review thoughts</td>\n",
       "      <td>1.000000</td>\n",
       "    </tr>\n",
       "  </tbody>\n",
       "</table>\n",
       "<p>87 rows × 2 columns</p>\n",
       "</div>"
      ],
      "text/plain": [
       "                            activity  mean_repetition\n",
       "30          Keeping a thought record         3.110577\n",
       "40     Positive thinking - gratitude         2.628931\n",
       "84        Working on your bad habits         2.555556\n",
       "39  Positive thinking - achievements         2.525000\n",
       "45           Put your worries to bed         2.460317\n",
       "..                               ...              ...\n",
       "56   Reviewing your bad sleep habits         1.142857\n",
       "35                    Moving forward         1.083333\n",
       "37                 Myths about sleep         1.074074\n",
       "9      Challenging thoughts on sleep         1.000000\n",
       "54                   Review thoughts         1.000000\n",
       "\n",
       "[87 rows x 2 columns]"
      ]
     },
     "execution_count": 6,
     "metadata": {},
     "output_type": "execute_result"
    }
   ],
   "source": [
    "activities = df3.groupby('activity')\n",
    "activities = activities['count'].mean().reset_index(name=\"mean_repetition\")\n",
    "activities.sort_values(['mean_repetition'], ascending = False)"
   ]
  },
  {
   "cell_type": "code",
   "execution_count": 7,
   "metadata": {},
   "outputs": [
    {
     "data": {
      "text/html": [
       "<div>\n",
       "<style scoped>\n",
       "    .dataframe tbody tr th:only-of-type {\n",
       "        vertical-align: middle;\n",
       "    }\n",
       "\n",
       "    .dataframe tbody tr th {\n",
       "        vertical-align: top;\n",
       "    }\n",
       "\n",
       "    .dataframe thead th {\n",
       "        text-align: right;\n",
       "    }\n",
       "</style>\n",
       "<table border=\"1\" class=\"dataframe\">\n",
       "  <thead>\n",
       "    <tr style=\"text-align: right;\">\n",
       "      <th></th>\n",
       "      <th>activity</th>\n",
       "      <th>userId</th>\n",
       "      <th>count</th>\n",
       "    </tr>\n",
       "  </thead>\n",
       "  <tbody>\n",
       "    <tr>\n",
       "      <th>7519</th>\n",
       "      <td>Keeping a thought record</td>\n",
       "      <td>a03308ca-fbaf-4265-8257-b6ecf7ec4d40</td>\n",
       "      <td>24</td>\n",
       "    </tr>\n",
       "    <tr>\n",
       "      <th>9657</th>\n",
       "      <td>Positive thinking - people</td>\n",
       "      <td>98f3942d-c356-48c2-946e-02f91726e9b7</td>\n",
       "      <td>22</td>\n",
       "    </tr>\n",
       "    <tr>\n",
       "      <th>9123</th>\n",
       "      <td>Positive thinking - achievements</td>\n",
       "      <td>98f3942d-c356-48c2-946e-02f91726e9b7</td>\n",
       "      <td>22</td>\n",
       "    </tr>\n",
       "    <tr>\n",
       "      <th>16439</th>\n",
       "      <td>Waves</td>\n",
       "      <td>a7208087-c10f-4080-8b6a-e9738a530a54</td>\n",
       "      <td>21</td>\n",
       "    </tr>\n",
       "    <tr>\n",
       "      <th>9367</th>\n",
       "      <td>Positive thinking - gratitude</td>\n",
       "      <td>98f3942d-c356-48c2-946e-02f91726e9b7</td>\n",
       "      <td>21</td>\n",
       "    </tr>\n",
       "    <tr>\n",
       "      <th>...</th>\n",
       "      <td>...</td>\n",
       "      <td>...</td>\n",
       "      <td>...</td>\n",
       "    </tr>\n",
       "    <tr>\n",
       "      <th>9771</th>\n",
       "      <td>Positive thinking - people</td>\n",
       "      <td>e3a037bf-4cee-4a31-b82d-20a82f732d3b</td>\n",
       "      <td>5</td>\n",
       "    </tr>\n",
       "    <tr>\n",
       "      <th>9767</th>\n",
       "      <td>Positive thinking - people</td>\n",
       "      <td>e062e190-23ce-4747-9665-a203abee57d0</td>\n",
       "      <td>5</td>\n",
       "    </tr>\n",
       "    <tr>\n",
       "      <th>9759</th>\n",
       "      <td>Positive thinking - people</td>\n",
       "      <td>dc9578be-0093-4526-8495-ea3550933fb1</td>\n",
       "      <td>5</td>\n",
       "    </tr>\n",
       "    <tr>\n",
       "      <th>9738</th>\n",
       "      <td>Positive thinking - people</td>\n",
       "      <td>cf3cc788-642c-4ef0-941f-1669252590aa</td>\n",
       "      <td>5</td>\n",
       "    </tr>\n",
       "    <tr>\n",
       "      <th>17</th>\n",
       "      <td>Autogenic training for sleep</td>\n",
       "      <td>0c805428-f782-4c4a-8562-13e15a977fd3</td>\n",
       "      <td>5</td>\n",
       "    </tr>\n",
       "  </tbody>\n",
       "</table>\n",
       "<p>761 rows × 3 columns</p>\n",
       "</div>"
      ],
      "text/plain": [
       "                               activity                                userId  \\\n",
       "7519           Keeping a thought record  a03308ca-fbaf-4265-8257-b6ecf7ec4d40   \n",
       "9657         Positive thinking - people  98f3942d-c356-48c2-946e-02f91726e9b7   \n",
       "9123   Positive thinking - achievements  98f3942d-c356-48c2-946e-02f91726e9b7   \n",
       "16439                             Waves  a7208087-c10f-4080-8b6a-e9738a530a54   \n",
       "9367      Positive thinking - gratitude  98f3942d-c356-48c2-946e-02f91726e9b7   \n",
       "...                                 ...                                   ...   \n",
       "9771         Positive thinking - people  e3a037bf-4cee-4a31-b82d-20a82f732d3b   \n",
       "9767         Positive thinking - people  e062e190-23ce-4747-9665-a203abee57d0   \n",
       "9759         Positive thinking - people  dc9578be-0093-4526-8495-ea3550933fb1   \n",
       "9738         Positive thinking - people  cf3cc788-642c-4ef0-941f-1669252590aa   \n",
       "17         Autogenic training for sleep  0c805428-f782-4c4a-8562-13e15a977fd3   \n",
       "\n",
       "       count  \n",
       "7519      24  \n",
       "9657      22  \n",
       "9123      22  \n",
       "16439     21  \n",
       "9367      21  \n",
       "...      ...  \n",
       "9771       5  \n",
       "9767       5  \n",
       "9759       5  \n",
       "9738       5  \n",
       "17         5  \n",
       "\n",
       "[761 rows x 3 columns]"
      ]
     },
     "execution_count": 7,
     "metadata": {},
     "output_type": "execute_result"
    }
   ],
   "source": [
    "df_repetitions = df3[df3['count']>= 5]\n",
    "df_repetitions.sort_values(['count'], ascending = False)"
   ]
  },
  {
   "cell_type": "code",
   "execution_count": 8,
   "metadata": {},
   "outputs": [
    {
     "data": {
      "text/plain": [
       "262"
      ]
     },
     "execution_count": 8,
     "metadata": {},
     "output_type": "execute_result"
    }
   ],
   "source": [
    "df_repetitions['userId'].nunique()"
   ]
  },
  {
   "cell_type": "code",
   "execution_count": 9,
   "metadata": {},
   "outputs": [
    {
     "data": {
      "text/plain": [
       "59"
      ]
     },
     "execution_count": 9,
     "metadata": {},
     "output_type": "execute_result"
    }
   ],
   "source": [
    "df_repetitions['activity'].nunique()"
   ]
  },
  {
   "cell_type": "code",
   "execution_count": 10,
   "metadata": {},
   "outputs": [
    {
     "data": {
      "text/plain": [
       "181"
      ]
     },
     "execution_count": 10,
     "metadata": {},
     "output_type": "execute_result"
    }
   ],
   "source": [
    "df_repetitions[df_repetitions['activity']=='Keeping a thought record']['userId'].nunique()"
   ]
  },
  {
   "cell_type": "code",
   "execution_count": 11,
   "metadata": {},
   "outputs": [
    {
     "data": {
      "text/plain": [
       "23"
      ]
     },
     "execution_count": 11,
     "metadata": {},
     "output_type": "execute_result"
    }
   ],
   "source": [
    "df_repetitions[df_repetitions['activity']=='Positive thinking - gratitude']['userId'].nunique()"
   ]
  },
  {
   "cell_type": "code",
   "execution_count": 14,
   "metadata": {},
   "outputs": [
    {
     "data": {
      "text/plain": [
       "<matplotlib.axes._subplots.AxesSubplot at 0x119933390>"
      ]
     },
     "execution_count": 14,
     "metadata": {},
     "output_type": "execute_result"
    },
    {
     "data": {
      "image/png": "[encoded data removed]",
      "text/plain": [
       "<Figure size 432x288 with 1 Axes>"
      ]
     },
     "metadata": {
      "needs_background": "light"
     },
     "output_type": "display_data"
    }
   ],
   "source": [
    "import seaborn as sns\n",
    "sns.distplot(df3['count'])"
   ]
  },
  {
   "cell_type": "code",
   "execution_count": 15,
   "metadata": {},
   "outputs": [
    {
     "data": {
      "text/plain": [
       "<matplotlib.axes._subplots.AxesSubplot at 0x11ab3b780>"
      ]
     },
     "execution_count": 15,
     "metadata": {},
     "output_type": "execute_result"
    },
    {
     "data": {
      "image/png": "[encoded data removed]",
      "text/plain": [
       "<Figure size 432x288 with 1 Axes>"
      ]
     },
     "metadata": {
      "needs_background": "light"
     },
     "output_type": "display_data"
    }
   ],
   "source": [
    "sns.distplot(df_repetitions['count'])"
   ]
  },
  {
   "cell_type": "code",
   "execution_count": 16,
   "metadata": {},
   "outputs": [],
   "source": [
    "thoughts = df.copy()\n",
    "thoughts = thoughts[thoughts['activity']=='Keeping a thought record']"
   ]
  },
  {
   "cell_type": "code",
   "execution_count": 17,
   "metadata": {},
   "outputs": [
    {
     "data": {
      "text/html": [
       "<div>\n",
       "<style scoped>\n",
       "    .dataframe tbody tr th:only-of-type {\n",
       "        vertical-align: middle;\n",
       "    }\n",
       "\n",
       "    .dataframe tbody tr th {\n",
       "        vertical-align: top;\n",
       "    }\n",
       "\n",
       "    .dataframe thead th {\n",
       "        text-align: right;\n",
       "    }\n",
       "</style>\n",
       "<table border=\"1\" class=\"dataframe\">\n",
       "  <thead>\n",
       "    <tr style=\"text-align: right;\">\n",
       "      <th></th>\n",
       "      <th>activity</th>\n",
       "      <th>userId</th>\n",
       "      <th>mean</th>\n",
       "      <th>std</th>\n",
       "    </tr>\n",
       "  </thead>\n",
       "  <tbody>\n",
       "    <tr>\n",
       "      <th>0</th>\n",
       "      <td>Keeping a thought record</td>\n",
       "      <td></td>\n",
       "      <td>12.865672</td>\n",
       "      <td>5.913907</td>\n",
       "    </tr>\n",
       "    <tr>\n",
       "      <th>1</th>\n",
       "      <td>Keeping a thought record</td>\n",
       "      <td>000d4f52-13dc-4600-9b02-3527dd646bc5</td>\n",
       "      <td>6.000000</td>\n",
       "      <td>0.000000</td>\n",
       "    </tr>\n",
       "    <tr>\n",
       "      <th>2</th>\n",
       "      <td>Keeping a thought record</td>\n",
       "      <td>0084bd82-3041-413d-ae1c-d7f39b2bdfe9</td>\n",
       "      <td>16.000000</td>\n",
       "      <td>0.000000</td>\n",
       "    </tr>\n",
       "    <tr>\n",
       "      <th>3</th>\n",
       "      <td>Keeping a thought record</td>\n",
       "      <td>01021dae-990a-4713-b087-a4208dde3f3d</td>\n",
       "      <td>15.500000</td>\n",
       "      <td>0.707107</td>\n",
       "    </tr>\n",
       "    <tr>\n",
       "      <th>4</th>\n",
       "      <td>Keeping a thought record</td>\n",
       "      <td>0115f360-76c2-4bf3-8874-bc214f699203</td>\n",
       "      <td>6.000000</td>\n",
       "      <td>0.000000</td>\n",
       "    </tr>\n",
       "  </tbody>\n",
       "</table>\n",
       "</div>"
      ],
      "text/plain": [
       "                   activity                                userId       mean  \\\n",
       "0  Keeping a thought record                                        12.865672   \n",
       "1  Keeping a thought record  000d4f52-13dc-4600-9b02-3527dd646bc5   6.000000   \n",
       "2  Keeping a thought record  0084bd82-3041-413d-ae1c-d7f39b2bdfe9  16.000000   \n",
       "3  Keeping a thought record  01021dae-990a-4713-b087-a4208dde3f3d  15.500000   \n",
       "4  Keeping a thought record  0115f360-76c2-4bf3-8874-bc214f699203   6.000000   \n",
       "\n",
       "        std  \n",
       "0  5.913907  \n",
       "1  0.000000  \n",
       "2  0.000000  \n",
       "3  0.707107  \n",
       "4  0.000000  "
      ]
     },
     "execution_count": 17,
     "metadata": {},
     "output_type": "execute_result"
    }
   ],
   "source": [
    "import numpy as np\n",
    "df4 = thoughts.groupby(['activity', 'userId'])['hour'].agg([np.mean, np.std]).reset_index()\n",
    "df4.head()"
   ]
  },
  {
   "cell_type": "code",
   "execution_count": 18,
   "metadata": {},
   "outputs": [
    {
     "data": {
      "text/html": [
       "<div>\n",
       "<style scoped>\n",
       "    .dataframe tbody tr th:only-of-type {\n",
       "        vertical-align: middle;\n",
       "    }\n",
       "\n",
       "    .dataframe tbody tr th {\n",
       "        vertical-align: top;\n",
       "    }\n",
       "\n",
       "    .dataframe thead th {\n",
       "        text-align: right;\n",
       "    }\n",
       "</style>\n",
       "<table border=\"1\" class=\"dataframe\">\n",
       "  <thead>\n",
       "    <tr style=\"text-align: right;\">\n",
       "      <th></th>\n",
       "      <th>activity</th>\n",
       "      <th>userId</th>\n",
       "      <th>total_days</th>\n",
       "    </tr>\n",
       "  </thead>\n",
       "  <tbody>\n",
       "    <tr>\n",
       "      <th>0</th>\n",
       "      <td>Keeping a thought record</td>\n",
       "      <td></td>\n",
       "      <td>7</td>\n",
       "    </tr>\n",
       "    <tr>\n",
       "      <th>1</th>\n",
       "      <td>Keeping a thought record</td>\n",
       "      <td>000d4f52-13dc-4600-9b02-3527dd646bc5</td>\n",
       "      <td>1</td>\n",
       "    </tr>\n",
       "    <tr>\n",
       "      <th>2</th>\n",
       "      <td>Keeping a thought record</td>\n",
       "      <td>0084bd82-3041-413d-ae1c-d7f39b2bdfe9</td>\n",
       "      <td>1</td>\n",
       "    </tr>\n",
       "    <tr>\n",
       "      <th>3</th>\n",
       "      <td>Keeping a thought record</td>\n",
       "      <td>01021dae-990a-4713-b087-a4208dde3f3d</td>\n",
       "      <td>2</td>\n",
       "    </tr>\n",
       "    <tr>\n",
       "      <th>4</th>\n",
       "      <td>Keeping a thought record</td>\n",
       "      <td>0115f360-76c2-4bf3-8874-bc214f699203</td>\n",
       "      <td>1</td>\n",
       "    </tr>\n",
       "  </tbody>\n",
       "</table>\n",
       "</div>"
      ],
      "text/plain": [
       "                   activity                                userId  total_days\n",
       "0  Keeping a thought record                                                 7\n",
       "1  Keeping a thought record  000d4f52-13dc-4600-9b02-3527dd646bc5           1\n",
       "2  Keeping a thought record  0084bd82-3041-413d-ae1c-d7f39b2bdfe9           1\n",
       "3  Keeping a thought record  01021dae-990a-4713-b087-a4208dde3f3d           2\n",
       "4  Keeping a thought record  0115f360-76c2-4bf3-8874-bc214f699203           1"
      ]
     },
     "execution_count": 18,
     "metadata": {},
     "output_type": "execute_result"
    }
   ],
   "source": [
    "days = thoughts.groupby(['activity', 'userId'])\n",
    "days = days['date'].nunique().reset_index(name='total_days')\n",
    "days.set_index('userId')\n",
    "days.head()"
   ]
  },
  {
   "cell_type": "code",
   "execution_count": 19,
   "metadata": {},
   "outputs": [
    {
     "data": {
      "text/html": [
       "<div>\n",
       "<style scoped>\n",
       "    .dataframe tbody tr th:only-of-type {\n",
       "        vertical-align: middle;\n",
       "    }\n",
       "\n",
       "    .dataframe tbody tr th {\n",
       "        vertical-align: top;\n",
       "    }\n",
       "\n",
       "    .dataframe thead th {\n",
       "        text-align: right;\n",
       "    }\n",
       "</style>\n",
       "<table border=\"1\" class=\"dataframe\">\n",
       "  <thead>\n",
       "    <tr style=\"text-align: right;\">\n",
       "      <th></th>\n",
       "      <th>activity</th>\n",
       "      <th>userId</th>\n",
       "      <th>mean</th>\n",
       "      <th>std</th>\n",
       "      <th>total_days</th>\n",
       "    </tr>\n",
       "  </thead>\n",
       "  <tbody>\n",
       "    <tr>\n",
       "      <th>506</th>\n",
       "      <td>Keeping a thought record</td>\n",
       "      <td>a03308ca-fbaf-4265-8257-b6ecf7ec4d40</td>\n",
       "      <td>13.949275</td>\n",
       "      <td>4.193012</td>\n",
       "      <td>24</td>\n",
       "    </tr>\n",
       "    <tr>\n",
       "      <th>796</th>\n",
       "      <td>Keeping a thought record</td>\n",
       "      <td>f5ff9aca-0969-432b-994f-e3ef1649ad04</td>\n",
       "      <td>15.785714</td>\n",
       "      <td>7.397845</td>\n",
       "      <td>20</td>\n",
       "    </tr>\n",
       "    <tr>\n",
       "      <th>360</th>\n",
       "      <td>Keeping a thought record</td>\n",
       "      <td>70414fb6-a9ce-4224-8609-9104243cf1a1</td>\n",
       "      <td>16.980100</td>\n",
       "      <td>1.699883</td>\n",
       "      <td>15</td>\n",
       "    </tr>\n",
       "    <tr>\n",
       "      <th>200</th>\n",
       "      <td>Keeping a thought record</td>\n",
       "      <td>3b674a79-3c21-4311-8de3-3c090a53e4ed</td>\n",
       "      <td>16.461538</td>\n",
       "      <td>6.280165</td>\n",
       "      <td>15</td>\n",
       "    </tr>\n",
       "    <tr>\n",
       "      <th>603</th>\n",
       "      <td>Keeping a thought record</td>\n",
       "      <td>bdc6fefe-565c-42fc-9252-a574a41399b7</td>\n",
       "      <td>9.696552</td>\n",
       "      <td>4.611767</td>\n",
       "      <td>14</td>\n",
       "    </tr>\n",
       "    <tr>\n",
       "      <th>...</th>\n",
       "      <td>...</td>\n",
       "      <td>...</td>\n",
       "      <td>...</td>\n",
       "      <td>...</td>\n",
       "      <td>...</td>\n",
       "    </tr>\n",
       "    <tr>\n",
       "      <th>172</th>\n",
       "      <td>Keeping a thought record</td>\n",
       "      <td>33ba9f67-40d9-441a-9b93-1a854f442509</td>\n",
       "      <td>9.875000</td>\n",
       "      <td>8.073977</td>\n",
       "      <td>5</td>\n",
       "    </tr>\n",
       "    <tr>\n",
       "      <th>292</th>\n",
       "      <td>Keeping a thought record</td>\n",
       "      <td>5a894ca9-9f72-40c7-b7ac-a431198b19bf</td>\n",
       "      <td>16.244444</td>\n",
       "      <td>2.356380</td>\n",
       "      <td>5</td>\n",
       "    </tr>\n",
       "    <tr>\n",
       "      <th>719</th>\n",
       "      <td>Keeping a thought record</td>\n",
       "      <td>dea81e98-e0c0-43cf-b818-cc2abe9a6c4e</td>\n",
       "      <td>15.625000</td>\n",
       "      <td>5.785131</td>\n",
       "      <td>5</td>\n",
       "    </tr>\n",
       "    <tr>\n",
       "      <th>228</th>\n",
       "      <td>Keeping a thought record</td>\n",
       "      <td>421af35d-408b-46d6-ba3a-dcce9de37fd3</td>\n",
       "      <td>13.382609</td>\n",
       "      <td>7.669240</td>\n",
       "      <td>5</td>\n",
       "    </tr>\n",
       "    <tr>\n",
       "      <th>656</th>\n",
       "      <td>Keeping a thought record</td>\n",
       "      <td>cbc76578-b3af-407e-b1b1-656eb08a9c7e</td>\n",
       "      <td>10.983193</td>\n",
       "      <td>6.301712</td>\n",
       "      <td>5</td>\n",
       "    </tr>\n",
       "  </tbody>\n",
       "</table>\n",
       "<p>181 rows × 5 columns</p>\n",
       "</div>"
      ],
      "text/plain": [
       "                     activity                                userId  \\\n",
       "506  Keeping a thought record  a03308ca-fbaf-4265-8257-b6ecf7ec4d40   \n",
       "796  Keeping a thought record  f5ff9aca-0969-432b-994f-e3ef1649ad04   \n",
       "360  Keeping a thought record  70414fb6-a9ce-4224-8609-9104243cf1a1   \n",
       "200  Keeping a thought record  3b674a79-3c21-4311-8de3-3c090a53e4ed   \n",
       "603  Keeping a thought record  bdc6fefe-565c-42fc-9252-a574a41399b7   \n",
       "..                        ...                                   ...   \n",
       "172  Keeping a thought record  33ba9f67-40d9-441a-9b93-1a854f442509   \n",
       "292  Keeping a thought record  5a894ca9-9f72-40c7-b7ac-a431198b19bf   \n",
       "719  Keeping a thought record  dea81e98-e0c0-43cf-b818-cc2abe9a6c4e   \n",
       "228  Keeping a thought record  421af35d-408b-46d6-ba3a-dcce9de37fd3   \n",
       "656  Keeping a thought record  cbc76578-b3af-407e-b1b1-656eb08a9c7e   \n",
       "\n",
       "          mean       std  total_days  \n",
       "506  13.949275  4.193012          24  \n",
       "796  15.785714  7.397845          20  \n",
       "360  16.980100  1.699883          15  \n",
       "200  16.461538  6.280165          15  \n",
       "603   9.696552  4.611767          14  \n",
       "..         ...       ...         ...  \n",
       "172   9.875000  8.073977           5  \n",
       "292  16.244444  2.356380           5  \n",
       "719  15.625000  5.785131           5  \n",
       "228  13.382609  7.669240           5  \n",
       "656  10.983193  6.301712           5  \n",
       "\n",
       "[181 rows x 5 columns]"
      ]
     },
     "execution_count": 19,
     "metadata": {},
     "output_type": "execute_result"
    }
   ],
   "source": [
    "df4['total_days'] = days['total_days']\n",
    "df4 = df4[df4['total_days']>= 5]\n",
    "df4.sort_values(['total_days'], ascending = False)"
   ]
  },
  {
   "cell_type": "code",
   "execution_count": 20,
   "metadata": {},
   "outputs": [
    {
     "data": {
      "image/png": "[encoded data removed]",
      "text/plain": [
       "<Figure size 432x288 with 1 Axes>"
      ]
     },
     "metadata": {
      "needs_background": "light"
     },
     "output_type": "display_data"
    }
   ],
   "source": [
    "ax = sns.scatterplot(x=\"std\", y=\"total_days\", data=df4, alpha = 0.7)"
   ]
  },
  {
   "cell_type": "code",
   "execution_count": 21,
   "metadata": {},
   "outputs": [
    {
     "data": {
      "image/png": "[encoded data removed]",
      "text/plain": [
       "<Figure size 432x288 with 1 Axes>"
      ]
     },
     "metadata": {
      "needs_background": "light"
     },
     "output_type": "display_data"
    }
   ],
   "source": [
    "ax = sns.scatterplot(x=\"mean\", y=\"total_days\", data=df4, alpha = 0.7)"
   ]
  },
  {
   "cell_type": "code",
   "execution_count": null,
   "metadata": {},
   "outputs": [],
   "source": []
  }
 ],
 "metadata": {
  "kernelspec": {
   "display_name": "Python 3",
   "language": "python",
   "name": "python3"
  },
  "language_info": {
   "codemirror_mode": {
    "name": "ipython",
    "version": 3
   },
   "file_extension": ".py",
   "mimetype": "text/x-python",
   "name": "python",
   "nbconvert_exporter": "python",
   "pygments_lexer": "ipython3",
   "version": "3.6.8"
  }
 },
 "nbformat": 4,
 "nbformat_minor": 4
}
