{
 "cells": [
  {
   "cell_type": "code",
   "execution_count": 1,
   "metadata": {},
   "outputs": [
    {
     "data": {
      "text/plain": [
       "617053"
      ]
     },
     "execution_count": 1,
     "metadata": {},
     "output_type": "execute_result"
    }
   ],
   "source": [
    "# Import of the data \n",
    "# This can take a while \n",
    "\n",
    "import pyspark.sql.types as T\n",
    "import pyspark.sql.functions as F\n",
    "from pyspark.sql import Window\n",
    "\n",
    "DAU_SCHEMA = T.StructType([\n",
    "    T.StructField('userId', T.StringType()),\n",
    "    T.StructField('createdAt', T.StringType()),\n",
    "    T.StructField(\n",
    "        'data', T.StructType([\n",
    "            T.StructField('activity-title', T.StringType()),\n",
    "        ]),\n",
    "    ),\n",
    "])\n",
    "\n",
    "PATH = \"s3a://alpha-health-pro/red/evermind/events/2020/*/*/*/*\"\n",
    "evermindDF_raw = spark.read.schema(schema=DAU_SCHEMA).json(PATH)\n",
    "evermindDF_raw.count()"
   ]
  },
  {
   "cell_type": "code",
   "execution_count": 2,
   "metadata": {},
   "outputs": [
    {
     "name": "stderr",
     "output_type": "stream",
     "text": [
      "/Users/yc00123/.virtualenvs/py3.6.8-data-access/lib/python3.6/site-packages/pandas/compat/__init__.py:117: UserWarning: Could not import the lzma module. Your installed Python is incomplete. Attempting to use lzma compression will result in a RuntimeError.\n",
      "  warnings.warn(msg)\n"
     ]
    }
   ],
   "source": [
    "df = evermindDF_raw\\\n",
    "    .withColumn(\"date\", F.date_format(F.to_timestamp(F.col(\"createdAt\")), \"yyyy-MM-dd\"))\\\n",
    "    .toPandas()"
   ]
  },
  {
   "cell_type": "code",
   "execution_count": 3,
   "metadata": {},
   "outputs": [],
   "source": [
    "df.dropna(subset = ['data'], inplace=True)"
   ]
  },
  {
   "cell_type": "code",
   "execution_count": 4,
   "metadata": {},
   "outputs": [],
   "source": [
    "import pandas as pd\n",
    "def get_data(x):\n",
    "    return x[0]\n",
    "\n",
    "df['activity'] = df['data'].apply(lambda x: get_data(x))"
   ]
  },
  {
   "cell_type": "code",
   "execution_count": 5,
   "metadata": {},
   "outputs": [],
   "source": [
    "import datetime as dt\n",
    "df['createdAt']= pd.to_datetime(df['createdAt'], utc=True) \n",
    "df['hour'] = df['createdAt'].dt.hour"
   ]
  },
  {
   "cell_type": "code",
   "execution_count": 6,
   "metadata": {},
   "outputs": [],
   "source": [
    "# Categorisation of the hours of the day\n",
    "def get_hour_categories(x):\n",
    "    if x<=10 :\n",
    "        return '0-10'\n",
    "    elif 10 < x <= 13:\n",
    "        return '10-13'\n",
    "    elif 13 < x <= 16:\n",
    "        return '13-16'\n",
    "    elif 16 < x <= 19:\n",
    "        return '16-19'\n",
    "    elif 19 < x <= 22:\n",
    "        return '19-22'\n",
    "    elif x > 22:\n",
    "        return 'after 22'\n",
    "\n",
    "df['hour_cat'] = df['hour'].apply(lambda x: get_hour_categories(x))"
   ]
  },
  {
   "cell_type": "code",
   "execution_count": 7,
   "metadata": {},
   "outputs": [
    {
     "data": {
      "text/html": [
       "<div>\n",
       "<style scoped>\n",
       "    .dataframe tbody tr th:only-of-type {\n",
       "        vertical-align: middle;\n",
       "    }\n",
       "\n",
       "    .dataframe tbody tr th {\n",
       "        vertical-align: top;\n",
       "    }\n",
       "\n",
       "    .dataframe thead th {\n",
       "        text-align: right;\n",
       "    }\n",
       "</style>\n",
       "<table border=\"1\" class=\"dataframe\">\n",
       "  <thead>\n",
       "    <tr style=\"text-align: right;\">\n",
       "      <th></th>\n",
       "      <th>hour_cat</th>\n",
       "      <th>activity</th>\n",
       "      <th>count</th>\n",
       "    </tr>\n",
       "  </thead>\n",
       "  <tbody>\n",
       "    <tr>\n",
       "      <th>0</th>\n",
       "      <td>0-10</td>\n",
       "      <td>Achievements</td>\n",
       "      <td>27</td>\n",
       "    </tr>\n",
       "    <tr>\n",
       "      <th>1</th>\n",
       "      <td>0-10</td>\n",
       "      <td>Autogenic training for sleep</td>\n",
       "      <td>483</td>\n",
       "    </tr>\n",
       "    <tr>\n",
       "      <th>2</th>\n",
       "      <td>0-10</td>\n",
       "      <td>Automatic thoughts and self-confidence</td>\n",
       "      <td>225</td>\n",
       "    </tr>\n",
       "    <tr>\n",
       "      <th>3</th>\n",
       "      <td>0-10</td>\n",
       "      <td>Balance your thoughts</td>\n",
       "      <td>197</td>\n",
       "    </tr>\n",
       "    <tr>\n",
       "      <th>4</th>\n",
       "      <td>0-10</td>\n",
       "      <td>Balancing thoughts</td>\n",
       "      <td>170</td>\n",
       "    </tr>\n",
       "  </tbody>\n",
       "</table>\n",
       "</div>"
      ],
      "text/plain": [
       "  hour_cat                                activity  count\n",
       "0     0-10                            Achievements     27\n",
       "1     0-10            Autogenic training for sleep    483\n",
       "2     0-10  Automatic thoughts and self-confidence    225\n",
       "3     0-10                   Balance your thoughts    197\n",
       "4     0-10                      Balancing thoughts    170"
      ]
     },
     "execution_count": 7,
     "metadata": {},
     "output_type": "execute_result"
    }
   ],
   "source": [
    "df2 = df.groupby(['hour_cat', 'activity'])\n",
    "df2 = df2['activity'].count().reset_index(name=\"count\")\n",
    "df2.head()"
   ]
  },
  {
   "cell_type": "code",
   "execution_count": 8,
   "metadata": {},
   "outputs": [
    {
     "data": {
      "text/html": [
       "<div>\n",
       "<style scoped>\n",
       "    .dataframe tbody tr th:only-of-type {\n",
       "        vertical-align: middle;\n",
       "    }\n",
       "\n",
       "    .dataframe tbody tr th {\n",
       "        vertical-align: top;\n",
       "    }\n",
       "\n",
       "    .dataframe thead th {\n",
       "        text-align: right;\n",
       "    }\n",
       "</style>\n",
       "<table border=\"1\" class=\"dataframe\">\n",
       "  <thead>\n",
       "    <tr style=\"text-align: right;\">\n",
       "      <th></th>\n",
       "      <th>hour_cat</th>\n",
       "      <th>activity</th>\n",
       "      <th>count</th>\n",
       "    </tr>\n",
       "  </thead>\n",
       "  <tbody>\n",
       "    <tr>\n",
       "      <th>16</th>\n",
       "      <td>0-10</td>\n",
       "      <td>Echo</td>\n",
       "      <td>19060</td>\n",
       "    </tr>\n",
       "    <tr>\n",
       "      <th>30</th>\n",
       "      <td>0-10</td>\n",
       "      <td>Keeping a thought record</td>\n",
       "      <td>9958</td>\n",
       "    </tr>\n",
       "    <tr>\n",
       "      <th>15</th>\n",
       "      <td>0-10</td>\n",
       "      <td>Dominating doubt and uncertainty</td>\n",
       "      <td>4122</td>\n",
       "    </tr>\n",
       "    <tr>\n",
       "      <th>48</th>\n",
       "      <td>0-10</td>\n",
       "      <td>Recognising unhelpful thoughts</td>\n",
       "      <td>2080</td>\n",
       "    </tr>\n",
       "    <tr>\n",
       "      <th>5</th>\n",
       "      <td>0-10</td>\n",
       "      <td>Beginner's progressive muscle relaxation</td>\n",
       "      <td>2022</td>\n",
       "    </tr>\n",
       "    <tr>\n",
       "      <th>...</th>\n",
       "      <td>...</td>\n",
       "      <td>...</td>\n",
       "      <td>...</td>\n",
       "    </tr>\n",
       "    <tr>\n",
       "      <th>423</th>\n",
       "      <td>after 22</td>\n",
       "      <td>Creating balanced thoughts</td>\n",
       "      <td>8</td>\n",
       "    </tr>\n",
       "    <tr>\n",
       "      <th>416</th>\n",
       "      <td>after 22</td>\n",
       "      <td>Balance your thoughts</td>\n",
       "      <td>6</td>\n",
       "    </tr>\n",
       "    <tr>\n",
       "      <th>437</th>\n",
       "      <td>after 22</td>\n",
       "      <td>Identifying your bad sleep habits</td>\n",
       "      <td>6</td>\n",
       "    </tr>\n",
       "    <tr>\n",
       "      <th>486</th>\n",
       "      <td>after 22</td>\n",
       "      <td>Your cosy place</td>\n",
       "      <td>5</td>\n",
       "    </tr>\n",
       "    <tr>\n",
       "      <th>474</th>\n",
       "      <td>after 22</td>\n",
       "      <td>To take with me</td>\n",
       "      <td>1</td>\n",
       "    </tr>\n",
       "  </tbody>\n",
       "</table>\n",
       "<p>488 rows × 3 columns</p>\n",
       "</div>"
      ],
      "text/plain": [
       "     hour_cat                                  activity  count\n",
       "16       0-10                                      Echo  19060\n",
       "30       0-10                  Keeping a thought record   9958\n",
       "15       0-10          Dominating doubt and uncertainty   4122\n",
       "48       0-10            Recognising unhelpful thoughts   2080\n",
       "5        0-10  Beginner's progressive muscle relaxation   2022\n",
       "..        ...                                       ...    ...\n",
       "423  after 22                Creating balanced thoughts      8\n",
       "416  after 22                     Balance your thoughts      6\n",
       "437  after 22         Identifying your bad sleep habits      6\n",
       "486  after 22                           Your cosy place      5\n",
       "474  after 22                           To take with me      1\n",
       "\n",
       "[488 rows x 3 columns]"
      ]
     },
     "execution_count": 8,
     "metadata": {},
     "output_type": "execute_result"
    }
   ],
   "source": [
    "df2.sort_values(by=['hour_cat','count'], ascending=[True, False])"
   ]
  },
  {
   "cell_type": "code",
   "execution_count": 13,
   "metadata": {},
   "outputs": [
    {
     "data": {
      "text/plain": [
       "<seaborn.axisgrid.FacetGrid at 0x130f25be0>"
      ]
     },
     "execution_count": 13,
     "metadata": {},
     "output_type": "execute_result"
    },
    {
     "data": {
      "image/png": "[encoded data removed]",
      "text/plain": [
       "<Figure size 936x360 with 1 Axes>"
      ]
     },
     "metadata": {
      "needs_background": "light"
     },
     "output_type": "display_data"
    }
   ],
   "source": [
    "import seaborn as sns\n",
    "import matplotlib as plt\n",
    "a = df2[df2['hour_cat']=='0-10'][:5]\n",
    "fig = sns.catplot(x=\"activity\", y=\"count\", kind=\"bar\", data =a, aspect=2.6)\n",
    "fig.set_axis_labels('Top 5 activities', 'Count events between 0-10')"
   ]
  },
  {
   "cell_type": "code",
   "execution_count": 15,
   "metadata": {},
   "outputs": [
    {
     "data": {
      "text/plain": [
       "<seaborn.axisgrid.FacetGrid at 0x12705af28>"
      ]
     },
     "execution_count": 15,
     "metadata": {},
     "output_type": "execute_result"
    },
    {
     "data": {
      "image/png": "[encoded data removed]",
      "text/plain": [
       "<Figure size 936x360 with 1 Axes>"
      ]
     },
     "metadata": {
      "needs_background": "light"
     },
     "output_type": "display_data"
    }
   ],
   "source": [
    "b = df2[df2['hour_cat']=='10-13'][:5]\n",
    "fig = sns.catplot(x=\"activity\", y=\"count\", kind=\"bar\", data =b, aspect=2.6)\n",
    "fig.set_axis_labels('Top 5 activities', 'Count events between 10-13')"
   ]
  },
  {
   "cell_type": "code",
   "execution_count": 16,
   "metadata": {},
   "outputs": [
    {
     "data": {
      "text/plain": [
       "<seaborn.axisgrid.FacetGrid at 0x128519588>"
      ]
     },
     "execution_count": 16,
     "metadata": {},
     "output_type": "execute_result"
    },
    {
     "data": {
      "image/png": "[encoded data removed]",
      "text/plain": [
       "<Figure size 936x360 with 1 Axes>"
      ]
     },
     "metadata": {
      "needs_background": "light"
     },
     "output_type": "display_data"
    }
   ],
   "source": [
    "c = df2[df2['hour_cat']=='13-16'][:5]\n",
    "fig = sns.catplot(x=\"activity\", y=\"count\", kind=\"bar\", data =c, aspect=2.6)\n",
    "fig.set_axis_labels('Top 5 activities', 'Count events between 13-16')"
   ]
  },
  {
   "cell_type": "code",
   "execution_count": 17,
   "metadata": {},
   "outputs": [
    {
     "data": {
      "text/plain": [
       "<seaborn.axisgrid.FacetGrid at 0x12812f518>"
      ]
     },
     "execution_count": 17,
     "metadata": {},
     "output_type": "execute_result"
    },
    {
     "data": {
      "image/png": "[encoded data removed]",
      "text/plain": [
       "<Figure size 936x360 with 1 Axes>"
      ]
     },
     "metadata": {
      "needs_background": "light"
     },
     "output_type": "display_data"
    }
   ],
   "source": [
    "d = df2[df2['hour_cat']=='16-19'][:5]\n",
    "fig = sns.catplot(x=\"activity\", y=\"count\", kind=\"bar\", data =d, aspect=2.6)\n",
    "fig.set_axis_labels('Top 5 activities', 'Count events between 16-19')"
   ]
  },
  {
   "cell_type": "code",
   "execution_count": 18,
   "metadata": {},
   "outputs": [
    {
     "data": {
      "text/plain": [
       "<seaborn.axisgrid.FacetGrid at 0x129a49f28>"
      ]
     },
     "execution_count": 18,
     "metadata": {},
     "output_type": "execute_result"
    },
    {
     "data": {
      "image/png": "[encoded data removed]",
      "text/plain": [
       "<Figure size 936x360 with 1 Axes>"
      ]
     },
     "metadata": {
      "needs_background": "light"
     },
     "output_type": "display_data"
    }
   ],
   "source": [
    "e = df2[df2['hour_cat']=='19-22'][:5]\n",
    "fig = sns.catplot(x=\"activity\", y=\"count\", kind=\"bar\", data =e, aspect=2.6)\n",
    "fig.set_axis_labels('Top 5 activities', 'Count events between 19-22')"
   ]
  },
  {
   "cell_type": "code",
   "execution_count": 19,
   "metadata": {},
   "outputs": [
    {
     "data": {
      "text/plain": [
       "<seaborn.axisgrid.FacetGrid at 0x129a19b70>"
      ]
     },
     "execution_count": 19,
     "metadata": {},
     "output_type": "execute_result"
    },
    {
     "data": {
      "image/png": "[encoded data removed]",
      "text/plain": [
       "<Figure size 936x360 with 1 Axes>"
      ]
     },
     "metadata": {
      "needs_background": "light"
     },
     "output_type": "display_data"
    }
   ],
   "source": [
    "f = df2[df2['hour_cat']=='after 22'][:5]\n",
    "fig = sns.catplot(x=\"activity\", y=\"count\", kind=\"bar\", data =f, aspect=2.6)\n",
    "fig.set_axis_labels('Top 5 activities', 'Count events after 22')"
   ]
  },
  {
   "cell_type": "code",
   "execution_count": 28,
   "metadata": {},
   "outputs": [
    {
     "data": {
      "text/html": [
       "<div>\n",
       "<style scoped>\n",
       "    .dataframe tbody tr th:only-of-type {\n",
       "        vertical-align: middle;\n",
       "    }\n",
       "\n",
       "    .dataframe tbody tr th {\n",
       "        vertical-align: top;\n",
       "    }\n",
       "\n",
       "    .dataframe thead th {\n",
       "        text-align: right;\n",
       "    }\n",
       "</style>\n",
       "<table border=\"1\" class=\"dataframe\">\n",
       "  <thead>\n",
       "    <tr style=\"text-align: right;\">\n",
       "      <th></th>\n",
       "      <th>activity</th>\n",
       "      <th>userId</th>\n",
       "      <th>count</th>\n",
       "    </tr>\n",
       "  </thead>\n",
       "  <tbody>\n",
       "    <tr>\n",
       "      <th>0</th>\n",
       "      <td>Achievements</td>\n",
       "      <td>2397e1e3-e7b4-459a-82c6-c8a69cdc7031</td>\n",
       "      <td>1</td>\n",
       "    </tr>\n",
       "    <tr>\n",
       "      <th>1</th>\n",
       "      <td>Achievements</td>\n",
       "      <td>54d3e190-ee81-4801-8b35-b484123f0080</td>\n",
       "      <td>1</td>\n",
       "    </tr>\n",
       "    <tr>\n",
       "      <th>2</th>\n",
       "      <td>Achievements</td>\n",
       "      <td>696e2ae2-c892-4f43-aa0c-8336bd353d45</td>\n",
       "      <td>2</td>\n",
       "    </tr>\n",
       "    <tr>\n",
       "      <th>3</th>\n",
       "      <td>Achievements</td>\n",
       "      <td>8e8e3863-041e-497a-8544-107efdb3d5cb</td>\n",
       "      <td>1</td>\n",
       "    </tr>\n",
       "    <tr>\n",
       "      <th>4</th>\n",
       "      <td>Achievements</td>\n",
       "      <td>df17bd69-9d0f-4469-bbc5-22f43ddbfc03</td>\n",
       "      <td>1</td>\n",
       "    </tr>\n",
       "  </tbody>\n",
       "</table>\n",
       "</div>"
      ],
      "text/plain": [
       "       activity                                userId  count\n",
       "0  Achievements  2397e1e3-e7b4-459a-82c6-c8a69cdc7031      1\n",
       "1  Achievements  54d3e190-ee81-4801-8b35-b484123f0080      1\n",
       "2  Achievements  696e2ae2-c892-4f43-aa0c-8336bd353d45      2\n",
       "3  Achievements  8e8e3863-041e-497a-8544-107efdb3d5cb      1\n",
       "4  Achievements  df17bd69-9d0f-4469-bbc5-22f43ddbfc03      1"
      ]
     },
     "execution_count": 28,
     "metadata": {},
     "output_type": "execute_result"
    }
   ],
   "source": [
    "df3 = df.groupby(['activity', 'userId'])\n",
    "df3 = df3['date'].nunique().reset_index(name=\"count\")\n",
    "df3.head()"
   ]
  },
  {
   "cell_type": "code",
   "execution_count": 29,
   "metadata": {},
   "outputs": [
    {
     "data": {
      "text/html": [
       "<div>\n",
       "<style scoped>\n",
       "    .dataframe tbody tr th:only-of-type {\n",
       "        vertical-align: middle;\n",
       "    }\n",
       "\n",
       "    .dataframe tbody tr th {\n",
       "        vertical-align: top;\n",
       "    }\n",
       "\n",
       "    .dataframe thead th {\n",
       "        text-align: right;\n",
       "    }\n",
       "</style>\n",
       "<table border=\"1\" class=\"dataframe\">\n",
       "  <thead>\n",
       "    <tr style=\"text-align: right;\">\n",
       "      <th></th>\n",
       "      <th>activity</th>\n",
       "      <th>userId</th>\n",
       "      <th>count</th>\n",
       "    </tr>\n",
       "  </thead>\n",
       "  <tbody>\n",
       "    <tr>\n",
       "      <th>6696</th>\n",
       "      <td>Keeping a thought record</td>\n",
       "      <td>a03308ca-fbaf-4265-8257-b6ecf7ec4d40</td>\n",
       "      <td>24</td>\n",
       "    </tr>\n",
       "    <tr>\n",
       "      <th>8593</th>\n",
       "      <td>Positive thinking - people</td>\n",
       "      <td>98f3942d-c356-48c2-946e-02f91726e9b7</td>\n",
       "      <td>22</td>\n",
       "    </tr>\n",
       "    <tr>\n",
       "      <th>8088</th>\n",
       "      <td>Positive thinking - achievements</td>\n",
       "      <td>98f3942d-c356-48c2-946e-02f91726e9b7</td>\n",
       "      <td>22</td>\n",
       "    </tr>\n",
       "    <tr>\n",
       "      <th>8322</th>\n",
       "      <td>Positive thinking - gratitude</td>\n",
       "      <td>98f3942d-c356-48c2-946e-02f91726e9b7</td>\n",
       "      <td>21</td>\n",
       "    </tr>\n",
       "    <tr>\n",
       "      <th>14410</th>\n",
       "      <td>Waves</td>\n",
       "      <td>a7208087-c10f-4080-8b6a-e9738a530a54</td>\n",
       "      <td>21</td>\n",
       "    </tr>\n",
       "    <tr>\n",
       "      <th>...</th>\n",
       "      <td>...</td>\n",
       "      <td>...</td>\n",
       "      <td>...</td>\n",
       "    </tr>\n",
       "    <tr>\n",
       "      <th>5916</th>\n",
       "      <td>Keep stress in check while working from home</td>\n",
       "      <td>67b53dc2-8142-4ad8-a85a-662bae3072ec</td>\n",
       "      <td>1</td>\n",
       "    </tr>\n",
       "    <tr>\n",
       "      <th>5917</th>\n",
       "      <td>Keep stress in check while working from home</td>\n",
       "      <td>68edcc87-a82f-499d-941b-d1b4cd2838be</td>\n",
       "      <td>1</td>\n",
       "    </tr>\n",
       "    <tr>\n",
       "      <th>5918</th>\n",
       "      <td>Keep stress in check while working from home</td>\n",
       "      <td>6a544474-46d5-4204-a65f-f496c06d6667</td>\n",
       "      <td>1</td>\n",
       "    </tr>\n",
       "    <tr>\n",
       "      <th>5920</th>\n",
       "      <td>Keep stress in check while working from home</td>\n",
       "      <td>6baa51d5-fc8c-4ace-b158-06de0d641748</td>\n",
       "      <td>1</td>\n",
       "    </tr>\n",
       "    <tr>\n",
       "      <th>15791</th>\n",
       "      <td>Your night ritual</td>\n",
       "      <td>fe7a1ca2-f62b-4e3c-99a9-cb82dbfc6295</td>\n",
       "      <td>1</td>\n",
       "    </tr>\n",
       "  </tbody>\n",
       "</table>\n",
       "<p>15792 rows × 3 columns</p>\n",
       "</div>"
      ],
      "text/plain": [
       "                                           activity  \\\n",
       "6696                       Keeping a thought record   \n",
       "8593                     Positive thinking - people   \n",
       "8088               Positive thinking - achievements   \n",
       "8322                  Positive thinking - gratitude   \n",
       "14410                                         Waves   \n",
       "...                                             ...   \n",
       "5916   Keep stress in check while working from home   \n",
       "5917   Keep stress in check while working from home   \n",
       "5918   Keep stress in check while working from home   \n",
       "5920   Keep stress in check while working from home   \n",
       "15791                             Your night ritual   \n",
       "\n",
       "                                     userId  count  \n",
       "6696   a03308ca-fbaf-4265-8257-b6ecf7ec4d40     24  \n",
       "8593   98f3942d-c356-48c2-946e-02f91726e9b7     22  \n",
       "8088   98f3942d-c356-48c2-946e-02f91726e9b7     22  \n",
       "8322   98f3942d-c356-48c2-946e-02f91726e9b7     21  \n",
       "14410  a7208087-c10f-4080-8b6a-e9738a530a54     21  \n",
       "...                                     ...    ...  \n",
       "5916   67b53dc2-8142-4ad8-a85a-662bae3072ec      1  \n",
       "5917   68edcc87-a82f-499d-941b-d1b4cd2838be      1  \n",
       "5918   6a544474-46d5-4204-a65f-f496c06d6667      1  \n",
       "5920   6baa51d5-fc8c-4ace-b158-06de0d641748      1  \n",
       "15791  fe7a1ca2-f62b-4e3c-99a9-cb82dbfc6295      1  \n",
       "\n",
       "[15792 rows x 3 columns]"
      ]
     },
     "execution_count": 29,
     "metadata": {},
     "output_type": "execute_result"
    }
   ],
   "source": [
    "df3.sort_values(['count'], ascending = False)"
   ]
  },
  {
   "cell_type": "code",
   "execution_count": 75,
   "metadata": {},
   "outputs": [
    {
     "data": {
      "text/html": [
       "<div>\n",
       "<style scoped>\n",
       "    .dataframe tbody tr th:only-of-type {\n",
       "        vertical-align: middle;\n",
       "    }\n",
       "\n",
       "    .dataframe tbody tr th {\n",
       "        vertical-align: top;\n",
       "    }\n",
       "\n",
       "    .dataframe thead th {\n",
       "        text-align: right;\n",
       "    }\n",
       "</style>\n",
       "<table border=\"1\" class=\"dataframe\">\n",
       "  <thead>\n",
       "    <tr style=\"text-align: right;\">\n",
       "      <th></th>\n",
       "      <th>activity</th>\n",
       "      <th>mean_repetition</th>\n",
       "    </tr>\n",
       "  </thead>\n",
       "  <tbody>\n",
       "    <tr>\n",
       "      <th>30</th>\n",
       "      <td>Keeping a thought record</td>\n",
       "      <td>3.078125</td>\n",
       "    </tr>\n",
       "    <tr>\n",
       "      <th>40</th>\n",
       "      <td>Positive thinking - gratitude</td>\n",
       "      <td>2.622642</td>\n",
       "    </tr>\n",
       "    <tr>\n",
       "      <th>39</th>\n",
       "      <td>Positive thinking - achievements</td>\n",
       "      <td>2.441088</td>\n",
       "    </tr>\n",
       "    <tr>\n",
       "      <th>41</th>\n",
       "      <td>Positive thinking - people</td>\n",
       "      <td>2.359116</td>\n",
       "    </tr>\n",
       "    <tr>\n",
       "      <th>84</th>\n",
       "      <td>Working on your bad habits</td>\n",
       "      <td>2.333333</td>\n",
       "    </tr>\n",
       "    <tr>\n",
       "      <th>...</th>\n",
       "      <td>...</td>\n",
       "      <td>...</td>\n",
       "    </tr>\n",
       "    <tr>\n",
       "      <th>35</th>\n",
       "      <td>Moving forward</td>\n",
       "      <td>1.095238</td>\n",
       "    </tr>\n",
       "    <tr>\n",
       "      <th>37</th>\n",
       "      <td>Myths about sleep</td>\n",
       "      <td>1.041667</td>\n",
       "    </tr>\n",
       "    <tr>\n",
       "      <th>9</th>\n",
       "      <td>Challenging thoughts on sleep</td>\n",
       "      <td>1.000000</td>\n",
       "    </tr>\n",
       "    <tr>\n",
       "      <th>56</th>\n",
       "      <td>Reviewing your bad sleep habits</td>\n",
       "      <td>1.000000</td>\n",
       "    </tr>\n",
       "    <tr>\n",
       "      <th>54</th>\n",
       "      <td>Review thoughts</td>\n",
       "      <td>1.000000</td>\n",
       "    </tr>\n",
       "  </tbody>\n",
       "</table>\n",
       "<p>87 rows × 2 columns</p>\n",
       "</div>"
      ],
      "text/plain": [
       "                            activity  mean_repetition\n",
       "30          Keeping a thought record         3.078125\n",
       "40     Positive thinking - gratitude         2.622642\n",
       "39  Positive thinking - achievements         2.441088\n",
       "41        Positive thinking - people         2.359116\n",
       "84        Working on your bad habits         2.333333\n",
       "..                               ...              ...\n",
       "35                    Moving forward         1.095238\n",
       "37                 Myths about sleep         1.041667\n",
       "9      Challenging thoughts on sleep         1.000000\n",
       "56   Reviewing your bad sleep habits         1.000000\n",
       "54                   Review thoughts         1.000000\n",
       "\n",
       "[87 rows x 2 columns]"
      ]
     },
     "execution_count": 75,
     "metadata": {},
     "output_type": "execute_result"
    }
   ],
   "source": [
    "activities = df3.groupby('activity')\n",
    "activities = activities['count'].mean().reset_index(name=\"mean_repetition\")\n",
    "activities.sort_values(['mean_repetition'], ascending = False)"
   ]
  },
  {
   "cell_type": "code",
   "execution_count": 35,
   "metadata": {},
   "outputs": [
    {
     "data": {
      "text/html": [
       "<div>\n",
       "<style scoped>\n",
       "    .dataframe tbody tr th:only-of-type {\n",
       "        vertical-align: middle;\n",
       "    }\n",
       "\n",
       "    .dataframe tbody tr th {\n",
       "        vertical-align: top;\n",
       "    }\n",
       "\n",
       "    .dataframe thead th {\n",
       "        text-align: right;\n",
       "    }\n",
       "</style>\n",
       "<table border=\"1\" class=\"dataframe\">\n",
       "  <thead>\n",
       "    <tr style=\"text-align: right;\">\n",
       "      <th></th>\n",
       "      <th>activity</th>\n",
       "      <th>userId</th>\n",
       "      <th>count</th>\n",
       "    </tr>\n",
       "  </thead>\n",
       "  <tbody>\n",
       "    <tr>\n",
       "      <th>6696</th>\n",
       "      <td>Keeping a thought record</td>\n",
       "      <td>a03308ca-fbaf-4265-8257-b6ecf7ec4d40</td>\n",
       "      <td>24</td>\n",
       "    </tr>\n",
       "    <tr>\n",
       "      <th>8593</th>\n",
       "      <td>Positive thinking - people</td>\n",
       "      <td>98f3942d-c356-48c2-946e-02f91726e9b7</td>\n",
       "      <td>22</td>\n",
       "    </tr>\n",
       "    <tr>\n",
       "      <th>8088</th>\n",
       "      <td>Positive thinking - achievements</td>\n",
       "      <td>98f3942d-c356-48c2-946e-02f91726e9b7</td>\n",
       "      <td>22</td>\n",
       "    </tr>\n",
       "    <tr>\n",
       "      <th>8322</th>\n",
       "      <td>Positive thinking - gratitude</td>\n",
       "      <td>98f3942d-c356-48c2-946e-02f91726e9b7</td>\n",
       "      <td>21</td>\n",
       "    </tr>\n",
       "    <tr>\n",
       "      <th>14410</th>\n",
       "      <td>Waves</td>\n",
       "      <td>a7208087-c10f-4080-8b6a-e9738a530a54</td>\n",
       "      <td>21</td>\n",
       "    </tr>\n",
       "    <tr>\n",
       "      <th>...</th>\n",
       "      <td>...</td>\n",
       "      <td>...</td>\n",
       "      <td>...</td>\n",
       "    </tr>\n",
       "    <tr>\n",
       "      <th>4872</th>\n",
       "      <td>Expansion</td>\n",
       "      <td>42735b08-ef07-42c6-aa3c-34044f8635ac</td>\n",
       "      <td>5</td>\n",
       "    </tr>\n",
       "    <tr>\n",
       "      <th>4804</th>\n",
       "      <td>Expansion</td>\n",
       "      <td>25dc8ef7-88f9-4cb8-809d-5eaa8e9557ca</td>\n",
       "      <td>5</td>\n",
       "    </tr>\n",
       "    <tr>\n",
       "      <th>9326</th>\n",
       "      <td>Progressive muscle relaxation for sleep</td>\n",
       "      <td>967ebdad-0c6e-40f7-8363-2fedf955c8cb</td>\n",
       "      <td>5</td>\n",
       "    </tr>\n",
       "    <tr>\n",
       "      <th>4793</th>\n",
       "      <td>Expansion</td>\n",
       "      <td>1dc772d3-85c2-4866-908e-abfcc543c5d0</td>\n",
       "      <td>5</td>\n",
       "    </tr>\n",
       "    <tr>\n",
       "      <th>17</th>\n",
       "      <td>Autogenic training for sleep</td>\n",
       "      <td>0c805428-f782-4c4a-8562-13e15a977fd3</td>\n",
       "      <td>5</td>\n",
       "    </tr>\n",
       "  </tbody>\n",
       "</table>\n",
       "<p>637 rows × 3 columns</p>\n",
       "</div>"
      ],
      "text/plain": [
       "                                      activity  \\\n",
       "6696                  Keeping a thought record   \n",
       "8593                Positive thinking - people   \n",
       "8088          Positive thinking - achievements   \n",
       "8322             Positive thinking - gratitude   \n",
       "14410                                    Waves   \n",
       "...                                        ...   \n",
       "4872                                 Expansion   \n",
       "4804                                 Expansion   \n",
       "9326   Progressive muscle relaxation for sleep   \n",
       "4793                                 Expansion   \n",
       "17                Autogenic training for sleep   \n",
       "\n",
       "                                     userId  count  \n",
       "6696   a03308ca-fbaf-4265-8257-b6ecf7ec4d40     24  \n",
       "8593   98f3942d-c356-48c2-946e-02f91726e9b7     22  \n",
       "8088   98f3942d-c356-48c2-946e-02f91726e9b7     22  \n",
       "8322   98f3942d-c356-48c2-946e-02f91726e9b7     21  \n",
       "14410  a7208087-c10f-4080-8b6a-e9738a530a54     21  \n",
       "...                                     ...    ...  \n",
       "4872   42735b08-ef07-42c6-aa3c-34044f8635ac      5  \n",
       "4804   25dc8ef7-88f9-4cb8-809d-5eaa8e9557ca      5  \n",
       "9326   967ebdad-0c6e-40f7-8363-2fedf955c8cb      5  \n",
       "4793   1dc772d3-85c2-4866-908e-abfcc543c5d0      5  \n",
       "17     0c805428-f782-4c4a-8562-13e15a977fd3      5  \n",
       "\n",
       "[637 rows x 3 columns]"
      ]
     },
     "execution_count": 35,
     "metadata": {},
     "output_type": "execute_result"
    }
   ],
   "source": [
    "df_repetitions = df3[df3['count']>= 5]\n",
    "df_repetitions.sort_values(['count'], ascending = False)"
   ]
  },
  {
   "cell_type": "code",
   "execution_count": 36,
   "metadata": {},
   "outputs": [
    {
     "data": {
      "text/plain": [
       "245"
      ]
     },
     "execution_count": 36,
     "metadata": {},
     "output_type": "execute_result"
    }
   ],
   "source": [
    "df_repetitions['userId'].nunique()"
   ]
  },
  {
   "cell_type": "code",
   "execution_count": 37,
   "metadata": {},
   "outputs": [
    {
     "data": {
      "text/plain": [
       "52"
      ]
     },
     "execution_count": 37,
     "metadata": {},
     "output_type": "execute_result"
    }
   ],
   "source": [
    "df_repetitions['activity'].nunique()"
   ]
  },
  {
   "cell_type": "code",
   "execution_count": 67,
   "metadata": {},
   "outputs": [
    {
     "data": {
      "text/plain": [
       "174"
      ]
     },
     "execution_count": 67,
     "metadata": {},
     "output_type": "execute_result"
    }
   ],
   "source": [
    "df_repetitions[df_repetitions['activity']=='Keeping a thought record']['userId'].nunique()"
   ]
  },
  {
   "cell_type": "code",
   "execution_count": 74,
   "metadata": {},
   "outputs": [
    {
     "data": {
      "text/plain": [
       "23"
      ]
     },
     "execution_count": 74,
     "metadata": {},
     "output_type": "execute_result"
    }
   ],
   "source": [
    "df_repetitions[df_repetitions['activity']=='Positive thinking - gratitude']['userId'].nunique()"
   ]
  },
  {
   "cell_type": "code",
   "execution_count": 45,
   "metadata": {},
   "outputs": [
    {
     "data": {
      "text/plain": [
       "<matplotlib.axes._subplots.AxesSubplot at 0x12cc5fcc0>"
      ]
     },
     "execution_count": 45,
     "metadata": {},
     "output_type": "execute_result"
    },
    {
     "data": {
      "image/png": "[encoded data removed]",
      "text/plain": [
       "<Figure size 432x288 with 1 Axes>"
      ]
     },
     "metadata": {
      "needs_background": "light"
     },
     "output_type": "display_data"
    }
   ],
   "source": [
    "sns.distplot(df3['count'])"
   ]
  },
  {
   "cell_type": "code",
   "execution_count": 46,
   "metadata": {},
   "outputs": [
    {
     "data": {
      "text/plain": [
       "<matplotlib.axes._subplots.AxesSubplot at 0x12e198710>"
      ]
     },
     "execution_count": 46,
     "metadata": {},
     "output_type": "execute_result"
    },
    {
     "data": {
      "image/png": "[encoded data removed]",
      "text/plain": [
       "<Figure size 432x288 with 1 Axes>"
      ]
     },
     "metadata": {
      "needs_background": "light"
     },
     "output_type": "display_data"
    }
   ],
   "source": [
    "sns.distplot(df_repetitions['count'])"
   ]
  },
  {
   "cell_type": "code",
   "execution_count": 76,
   "metadata": {},
   "outputs": [],
   "source": [
    "thoughts = df.copy()"
   ]
  },
  {
   "cell_type": "code",
   "execution_count": 78,
   "metadata": {},
   "outputs": [],
   "source": [
    "thoughts = thoughts[thoughts['activity']=='Keeping a thought record']"
   ]
  },
  {
   "cell_type": "code",
   "execution_count": 103,
   "metadata": {},
   "outputs": [
    {
     "data": {
      "text/html": [
       "<div>\n",
       "<style scoped>\n",
       "    .dataframe tbody tr th:only-of-type {\n",
       "        vertical-align: middle;\n",
       "    }\n",
       "\n",
       "    .dataframe tbody tr th {\n",
       "        vertical-align: top;\n",
       "    }\n",
       "\n",
       "    .dataframe thead th {\n",
       "        text-align: right;\n",
       "    }\n",
       "</style>\n",
       "<table border=\"1\" class=\"dataframe\">\n",
       "  <thead>\n",
       "    <tr style=\"text-align: right;\">\n",
       "      <th></th>\n",
       "      <th>userId</th>\n",
       "      <th>createdAt</th>\n",
       "      <th>data</th>\n",
       "      <th>date</th>\n",
       "      <th>activity</th>\n",
       "      <th>hour</th>\n",
       "      <th>hour_cat</th>\n",
       "    </tr>\n",
       "  </thead>\n",
       "  <tbody>\n",
       "    <tr>\n",
       "      <th>41</th>\n",
       "      <td>ed0d77df-085b-418b-8490-86aaed92bf3c</td>\n",
       "      <td>2020-05-02 07:51:36.937897+00:00</td>\n",
       "      <td>(Keeping a thought record,)</td>\n",
       "      <td>2020-05-02</td>\n",
       "      <td>Keeping a thought record</td>\n",
       "      <td>7</td>\n",
       "      <td>0-10</td>\n",
       "    </tr>\n",
       "    <tr>\n",
       "      <th>45</th>\n",
       "      <td>ed0d77df-085b-418b-8490-86aaed92bf3c</td>\n",
       "      <td>2020-05-02 07:51:40.080784+00:00</td>\n",
       "      <td>(Keeping a thought record,)</td>\n",
       "      <td>2020-05-02</td>\n",
       "      <td>Keeping a thought record</td>\n",
       "      <td>7</td>\n",
       "      <td>0-10</td>\n",
       "    </tr>\n",
       "    <tr>\n",
       "      <th>47</th>\n",
       "      <td>ed0d77df-085b-418b-8490-86aaed92bf3c</td>\n",
       "      <td>2020-05-02 07:51:40.126710+00:00</td>\n",
       "      <td>(Keeping a thought record,)</td>\n",
       "      <td>2020-05-02</td>\n",
       "      <td>Keeping a thought record</td>\n",
       "      <td>7</td>\n",
       "      <td>0-10</td>\n",
       "    </tr>\n",
       "    <tr>\n",
       "      <th>48</th>\n",
       "      <td>ed0d77df-085b-418b-8490-86aaed92bf3c</td>\n",
       "      <td>2020-05-02 07:51:41.165238+00:00</td>\n",
       "      <td>(Keeping a thought record,)</td>\n",
       "      <td>2020-05-02</td>\n",
       "      <td>Keeping a thought record</td>\n",
       "      <td>7</td>\n",
       "      <td>0-10</td>\n",
       "    </tr>\n",
       "    <tr>\n",
       "      <th>124</th>\n",
       "      <td>ed0d77df-085b-418b-8490-86aaed92bf3c</td>\n",
       "      <td>2020-05-02 07:51:57.242390+00:00</td>\n",
       "      <td>(Keeping a thought record,)</td>\n",
       "      <td>2020-05-02</td>\n",
       "      <td>Keeping a thought record</td>\n",
       "      <td>7</td>\n",
       "      <td>0-10</td>\n",
       "    </tr>\n",
       "    <tr>\n",
       "      <th>...</th>\n",
       "      <td>...</td>\n",
       "      <td>...</td>\n",
       "      <td>...</td>\n",
       "      <td>...</td>\n",
       "      <td>...</td>\n",
       "      <td>...</td>\n",
       "      <td>...</td>\n",
       "    </tr>\n",
       "    <tr>\n",
       "      <th>615998</th>\n",
       "      <td>3016f096-50d6-4613-ac4e-ebd984abcdaf</td>\n",
       "      <td>2020-02-14 13:13:20.813516+00:00</td>\n",
       "      <td>(Keeping a thought record,)</td>\n",
       "      <td>2020-02-14</td>\n",
       "      <td>Keeping a thought record</td>\n",
       "      <td>13</td>\n",
       "      <td>10-13</td>\n",
       "    </tr>\n",
       "    <tr>\n",
       "      <th>616042</th>\n",
       "      <td>43ee2dde-e56e-4f74-b4db-1a48f84f712e</td>\n",
       "      <td>2020-04-08 05:22:26.185833+00:00</td>\n",
       "      <td>(Keeping a thought record,)</td>\n",
       "      <td>2020-04-08</td>\n",
       "      <td>Keeping a thought record</td>\n",
       "      <td>5</td>\n",
       "      <td>0-10</td>\n",
       "    </tr>\n",
       "    <tr>\n",
       "      <th>616316</th>\n",
       "      <td>e7fc9906-64c5-4a13-8b05-2d4b3ca4beb7</td>\n",
       "      <td>2020-03-31 19:49:12.272790+00:00</td>\n",
       "      <td>(Keeping a thought record,)</td>\n",
       "      <td>2020-03-31</td>\n",
       "      <td>Keeping a thought record</td>\n",
       "      <td>19</td>\n",
       "      <td>16-19</td>\n",
       "    </tr>\n",
       "    <tr>\n",
       "      <th>616317</th>\n",
       "      <td>e7fc9906-64c5-4a13-8b05-2d4b3ca4beb7</td>\n",
       "      <td>2020-03-31 19:49:14.248226+00:00</td>\n",
       "      <td>(Keeping a thought record,)</td>\n",
       "      <td>2020-03-31</td>\n",
       "      <td>Keeping a thought record</td>\n",
       "      <td>19</td>\n",
       "      <td>16-19</td>\n",
       "    </tr>\n",
       "    <tr>\n",
       "      <th>616876</th>\n",
       "      <td>259dfadc-10eb-4a06-8d75-fa781bdca8ed</td>\n",
       "      <td>2020-04-25 18:56:26.296839+00:00</td>\n",
       "      <td>(Keeping a thought record,)</td>\n",
       "      <td>2020-04-25</td>\n",
       "      <td>Keeping a thought record</td>\n",
       "      <td>18</td>\n",
       "      <td>16-19</td>\n",
       "    </tr>\n",
       "  </tbody>\n",
       "</table>\n",
       "<p>28076 rows × 7 columns</p>\n",
       "</div>"
      ],
      "text/plain": [
       "                                      userId                        createdAt  \\\n",
       "41      ed0d77df-085b-418b-8490-86aaed92bf3c 2020-05-02 07:51:36.937897+00:00   \n",
       "45      ed0d77df-085b-418b-8490-86aaed92bf3c 2020-05-02 07:51:40.080784+00:00   \n",
       "47      ed0d77df-085b-418b-8490-86aaed92bf3c 2020-05-02 07:51:40.126710+00:00   \n",
       "48      ed0d77df-085b-418b-8490-86aaed92bf3c 2020-05-02 07:51:41.165238+00:00   \n",
       "124     ed0d77df-085b-418b-8490-86aaed92bf3c 2020-05-02 07:51:57.242390+00:00   \n",
       "...                                      ...                              ...   \n",
       "615998  3016f096-50d6-4613-ac4e-ebd984abcdaf 2020-02-14 13:13:20.813516+00:00   \n",
       "616042  43ee2dde-e56e-4f74-b4db-1a48f84f712e 2020-04-08 05:22:26.185833+00:00   \n",
       "616316  e7fc9906-64c5-4a13-8b05-2d4b3ca4beb7 2020-03-31 19:49:12.272790+00:00   \n",
       "616317  e7fc9906-64c5-4a13-8b05-2d4b3ca4beb7 2020-03-31 19:49:14.248226+00:00   \n",
       "616876  259dfadc-10eb-4a06-8d75-fa781bdca8ed 2020-04-25 18:56:26.296839+00:00   \n",
       "\n",
       "                               data        date                  activity  \\\n",
       "41      (Keeping a thought record,)  2020-05-02  Keeping a thought record   \n",
       "45      (Keeping a thought record,)  2020-05-02  Keeping a thought record   \n",
       "47      (Keeping a thought record,)  2020-05-02  Keeping a thought record   \n",
       "48      (Keeping a thought record,)  2020-05-02  Keeping a thought record   \n",
       "124     (Keeping a thought record,)  2020-05-02  Keeping a thought record   \n",
       "...                             ...         ...                       ...   \n",
       "615998  (Keeping a thought record,)  2020-02-14  Keeping a thought record   \n",
       "616042  (Keeping a thought record,)  2020-04-08  Keeping a thought record   \n",
       "616316  (Keeping a thought record,)  2020-03-31  Keeping a thought record   \n",
       "616317  (Keeping a thought record,)  2020-03-31  Keeping a thought record   \n",
       "616876  (Keeping a thought record,)  2020-04-25  Keeping a thought record   \n",
       "\n",
       "        hour hour_cat  \n",
       "41         7     0-10  \n",
       "45         7     0-10  \n",
       "47         7     0-10  \n",
       "48         7     0-10  \n",
       "124        7     0-10  \n",
       "...      ...      ...  \n",
       "615998    13    10-13  \n",
       "616042     5     0-10  \n",
       "616316    19    16-19  \n",
       "616317    19    16-19  \n",
       "616876    18    16-19  \n",
       "\n",
       "[28076 rows x 7 columns]"
      ]
     },
     "execution_count": 103,
     "metadata": {},
     "output_type": "execute_result"
    }
   ],
   "source": [
    "thoughts"
   ]
  },
  {
   "cell_type": "code",
   "execution_count": 132,
   "metadata": {},
   "outputs": [
    {
     "data": {
      "text/html": [
       "<div>\n",
       "<style scoped>\n",
       "    .dataframe tbody tr th:only-of-type {\n",
       "        vertical-align: middle;\n",
       "    }\n",
       "\n",
       "    .dataframe tbody tr th {\n",
       "        vertical-align: top;\n",
       "    }\n",
       "\n",
       "    .dataframe thead th {\n",
       "        text-align: right;\n",
       "    }\n",
       "</style>\n",
       "<table border=\"1\" class=\"dataframe\">\n",
       "  <thead>\n",
       "    <tr style=\"text-align: right;\">\n",
       "      <th></th>\n",
       "      <th>activity</th>\n",
       "      <th>userId</th>\n",
       "      <th>mean</th>\n",
       "      <th>std</th>\n",
       "    </tr>\n",
       "  </thead>\n",
       "  <tbody>\n",
       "    <tr>\n",
       "      <th>0</th>\n",
       "      <td>Keeping a thought record</td>\n",
       "      <td></td>\n",
       "      <td>11.444444</td>\n",
       "      <td>5.664465</td>\n",
       "    </tr>\n",
       "    <tr>\n",
       "      <th>1</th>\n",
       "      <td>Keeping a thought record</td>\n",
       "      <td>000d4f52-13dc-4600-9b02-3527dd646bc5</td>\n",
       "      <td>6.000000</td>\n",
       "      <td>0.000000</td>\n",
       "    </tr>\n",
       "    <tr>\n",
       "      <th>2</th>\n",
       "      <td>Keeping a thought record</td>\n",
       "      <td>0084bd82-3041-413d-ae1c-d7f39b2bdfe9</td>\n",
       "      <td>16.000000</td>\n",
       "      <td>0.000000</td>\n",
       "    </tr>\n",
       "    <tr>\n",
       "      <th>3</th>\n",
       "      <td>Keeping a thought record</td>\n",
       "      <td>01021dae-990a-4713-b087-a4208dde3f3d</td>\n",
       "      <td>15.500000</td>\n",
       "      <td>0.707107</td>\n",
       "    </tr>\n",
       "    <tr>\n",
       "      <th>4</th>\n",
       "      <td>Keeping a thought record</td>\n",
       "      <td>0115f360-76c2-4bf3-8874-bc214f699203</td>\n",
       "      <td>6.000000</td>\n",
       "      <td>0.000000</td>\n",
       "    </tr>\n",
       "  </tbody>\n",
       "</table>\n",
       "</div>"
      ],
      "text/plain": [
       "                   activity                                userId       mean  \\\n",
       "0  Keeping a thought record                                        11.444444   \n",
       "1  Keeping a thought record  000d4f52-13dc-4600-9b02-3527dd646bc5   6.000000   \n",
       "2  Keeping a thought record  0084bd82-3041-413d-ae1c-d7f39b2bdfe9  16.000000   \n",
       "3  Keeping a thought record  01021dae-990a-4713-b087-a4208dde3f3d  15.500000   \n",
       "4  Keeping a thought record  0115f360-76c2-4bf3-8874-bc214f699203   6.000000   \n",
       "\n",
       "        std  \n",
       "0  5.664465  \n",
       "1  0.000000  \n",
       "2  0.000000  \n",
       "3  0.707107  \n",
       "4  0.000000  "
      ]
     },
     "execution_count": 132,
     "metadata": {},
     "output_type": "execute_result"
    }
   ],
   "source": [
    "import numpy as np\n",
    "df4 = thoughts.groupby(['activity', 'userId'])['hour'].agg([np.mean, np.std]).reset_index()\n",
    "df4.head()"
   ]
  },
  {
   "cell_type": "code",
   "execution_count": 133,
   "metadata": {},
   "outputs": [
    {
     "data": {
      "text/html": [
       "<div>\n",
       "<style scoped>\n",
       "    .dataframe tbody tr th:only-of-type {\n",
       "        vertical-align: middle;\n",
       "    }\n",
       "\n",
       "    .dataframe tbody tr th {\n",
       "        vertical-align: top;\n",
       "    }\n",
       "\n",
       "    .dataframe thead th {\n",
       "        text-align: right;\n",
       "    }\n",
       "</style>\n",
       "<table border=\"1\" class=\"dataframe\">\n",
       "  <thead>\n",
       "    <tr style=\"text-align: right;\">\n",
       "      <th></th>\n",
       "      <th>activity</th>\n",
       "      <th>userId</th>\n",
       "      <th>total_days</th>\n",
       "    </tr>\n",
       "  </thead>\n",
       "  <tbody>\n",
       "    <tr>\n",
       "      <th>0</th>\n",
       "      <td>Keeping a thought record</td>\n",
       "      <td></td>\n",
       "      <td>5</td>\n",
       "    </tr>\n",
       "    <tr>\n",
       "      <th>1</th>\n",
       "      <td>Keeping a thought record</td>\n",
       "      <td>000d4f52-13dc-4600-9b02-3527dd646bc5</td>\n",
       "      <td>1</td>\n",
       "    </tr>\n",
       "    <tr>\n",
       "      <th>2</th>\n",
       "      <td>Keeping a thought record</td>\n",
       "      <td>0084bd82-3041-413d-ae1c-d7f39b2bdfe9</td>\n",
       "      <td>1</td>\n",
       "    </tr>\n",
       "    <tr>\n",
       "      <th>3</th>\n",
       "      <td>Keeping a thought record</td>\n",
       "      <td>01021dae-990a-4713-b087-a4208dde3f3d</td>\n",
       "      <td>2</td>\n",
       "    </tr>\n",
       "    <tr>\n",
       "      <th>4</th>\n",
       "      <td>Keeping a thought record</td>\n",
       "      <td>0115f360-76c2-4bf3-8874-bc214f699203</td>\n",
       "      <td>1</td>\n",
       "    </tr>\n",
       "  </tbody>\n",
       "</table>\n",
       "</div>"
      ],
      "text/plain": [
       "                   activity                                userId  total_days\n",
       "0  Keeping a thought record                                                 5\n",
       "1  Keeping a thought record  000d4f52-13dc-4600-9b02-3527dd646bc5           1\n",
       "2  Keeping a thought record  0084bd82-3041-413d-ae1c-d7f39b2bdfe9           1\n",
       "3  Keeping a thought record  01021dae-990a-4713-b087-a4208dde3f3d           2\n",
       "4  Keeping a thought record  0115f360-76c2-4bf3-8874-bc214f699203           1"
      ]
     },
     "execution_count": 133,
     "metadata": {},
     "output_type": "execute_result"
    }
   ],
   "source": [
    "days = thoughts.groupby(['activity', 'userId'])\n",
    "days = days['date'].nunique().reset_index(name='total_days')\n",
    "days.set_index('userId')\n",
    "days.head()"
   ]
  },
  {
   "cell_type": "code",
   "execution_count": 134,
   "metadata": {},
   "outputs": [],
   "source": [
    "df4['total_days'] = days['total_days']"
   ]
  },
  {
   "cell_type": "code",
   "execution_count": 135,
   "metadata": {},
   "outputs": [
    {
     "data": {
      "text/html": [
       "<div>\n",
       "<style scoped>\n",
       "    .dataframe tbody tr th:only-of-type {\n",
       "        vertical-align: middle;\n",
       "    }\n",
       "\n",
       "    .dataframe tbody tr th {\n",
       "        vertical-align: top;\n",
       "    }\n",
       "\n",
       "    .dataframe thead th {\n",
       "        text-align: right;\n",
       "    }\n",
       "</style>\n",
       "<table border=\"1\" class=\"dataframe\">\n",
       "  <thead>\n",
       "    <tr style=\"text-align: right;\">\n",
       "      <th></th>\n",
       "      <th>activity</th>\n",
       "      <th>userId</th>\n",
       "      <th>mean</th>\n",
       "      <th>std</th>\n",
       "      <th>total_days</th>\n",
       "    </tr>\n",
       "  </thead>\n",
       "  <tbody>\n",
       "    <tr>\n",
       "      <th>466</th>\n",
       "      <td>Keeping a thought record</td>\n",
       "      <td>a03308ca-fbaf-4265-8257-b6ecf7ec4d40</td>\n",
       "      <td>13.949275</td>\n",
       "      <td>4.193012</td>\n",
       "      <td>24</td>\n",
       "    </tr>\n",
       "    <tr>\n",
       "      <th>735</th>\n",
       "      <td>Keeping a thought record</td>\n",
       "      <td>f5ff9aca-0969-432b-994f-e3ef1649ad04</td>\n",
       "      <td>15.785714</td>\n",
       "      <td>7.397845</td>\n",
       "      <td>20</td>\n",
       "    </tr>\n",
       "    <tr>\n",
       "      <th>440</th>\n",
       "      <td>Keeping a thought record</td>\n",
       "      <td>967ebdad-0c6e-40f7-8363-2fedf955c8cb</td>\n",
       "      <td>12.263158</td>\n",
       "      <td>3.084405</td>\n",
       "      <td>13</td>\n",
       "    </tr>\n",
       "    <tr>\n",
       "      <th>555</th>\n",
       "      <td>Keeping a thought record</td>\n",
       "      <td>bdc6fefe-565c-42fc-9252-a574a41399b7</td>\n",
       "      <td>9.707692</td>\n",
       "      <td>4.622906</td>\n",
       "      <td>12</td>\n",
       "    </tr>\n",
       "    <tr>\n",
       "      <th>187</th>\n",
       "      <td>Keeping a thought record</td>\n",
       "      <td>3b674a79-3c21-4311-8de3-3c090a53e4ed</td>\n",
       "      <td>16.867188</td>\n",
       "      <td>5.553421</td>\n",
       "      <td>12</td>\n",
       "    </tr>\n",
       "    <tr>\n",
       "      <th>...</th>\n",
       "      <td>...</td>\n",
       "      <td>...</td>\n",
       "      <td>...</td>\n",
       "      <td>...</td>\n",
       "      <td>...</td>\n",
       "    </tr>\n",
       "    <tr>\n",
       "      <th>602</th>\n",
       "      <td>Keeping a thought record</td>\n",
       "      <td>cbc76578-b3af-407e-b1b1-656eb08a9c7e</td>\n",
       "      <td>10.983193</td>\n",
       "      <td>6.301712</td>\n",
       "      <td>5</td>\n",
       "    </tr>\n",
       "    <tr>\n",
       "      <th>484</th>\n",
       "      <td>Keeping a thought record</td>\n",
       "      <td>a6a9b40e-58a7-41ad-9c0b-9a225b7aa589</td>\n",
       "      <td>13.975000</td>\n",
       "      <td>2.118145</td>\n",
       "      <td>5</td>\n",
       "    </tr>\n",
       "    <tr>\n",
       "      <th>586</th>\n",
       "      <td>Keeping a thought record</td>\n",
       "      <td>c6002bc7-b040-4729-8cbd-431ef22beb5b</td>\n",
       "      <td>18.333333</td>\n",
       "      <td>3.622023</td>\n",
       "      <td>5</td>\n",
       "    </tr>\n",
       "    <tr>\n",
       "      <th>502</th>\n",
       "      <td>Keeping a thought record</td>\n",
       "      <td>ad095232-32f5-4728-8c08-ebe8e3916bc7</td>\n",
       "      <td>5.833333</td>\n",
       "      <td>7.391216</td>\n",
       "      <td>5</td>\n",
       "    </tr>\n",
       "    <tr>\n",
       "      <th>0</th>\n",
       "      <td>Keeping a thought record</td>\n",
       "      <td></td>\n",
       "      <td>11.444444</td>\n",
       "      <td>5.664465</td>\n",
       "      <td>5</td>\n",
       "    </tr>\n",
       "  </tbody>\n",
       "</table>\n",
       "<p>174 rows × 5 columns</p>\n",
       "</div>"
      ],
      "text/plain": [
       "                     activity                                userId  \\\n",
       "466  Keeping a thought record  a03308ca-fbaf-4265-8257-b6ecf7ec4d40   \n",
       "735  Keeping a thought record  f5ff9aca-0969-432b-994f-e3ef1649ad04   \n",
       "440  Keeping a thought record  967ebdad-0c6e-40f7-8363-2fedf955c8cb   \n",
       "555  Keeping a thought record  bdc6fefe-565c-42fc-9252-a574a41399b7   \n",
       "187  Keeping a thought record  3b674a79-3c21-4311-8de3-3c090a53e4ed   \n",
       "..                        ...                                   ...   \n",
       "602  Keeping a thought record  cbc76578-b3af-407e-b1b1-656eb08a9c7e   \n",
       "484  Keeping a thought record  a6a9b40e-58a7-41ad-9c0b-9a225b7aa589   \n",
       "586  Keeping a thought record  c6002bc7-b040-4729-8cbd-431ef22beb5b   \n",
       "502  Keeping a thought record  ad095232-32f5-4728-8c08-ebe8e3916bc7   \n",
       "0    Keeping a thought record                                         \n",
       "\n",
       "          mean       std  total_days  \n",
       "466  13.949275  4.193012          24  \n",
       "735  15.785714  7.397845          20  \n",
       "440  12.263158  3.084405          13  \n",
       "555   9.707692  4.622906          12  \n",
       "187  16.867188  5.553421          12  \n",
       "..         ...       ...         ...  \n",
       "602  10.983193  6.301712           5  \n",
       "484  13.975000  2.118145           5  \n",
       "586  18.333333  3.622023           5  \n",
       "502   5.833333  7.391216           5  \n",
       "0    11.444444  5.664465           5  \n",
       "\n",
       "[174 rows x 5 columns]"
      ]
     },
     "execution_count": 135,
     "metadata": {},
     "output_type": "execute_result"
    }
   ],
   "source": [
    "df4 = df4[df4['total_days']>= 5]\n",
    "df4.sort_values(['total_days'], ascending = False)"
   ]
  },
  {
   "cell_type": "code",
   "execution_count": 140,
   "metadata": {},
   "outputs": [
    {
     "data": {
      "image/png": "[encoded data removed]",
      "text/plain": [
       "<Figure size 432x288 with 1 Axes>"
      ]
     },
     "metadata": {
      "needs_background": "light"
     },
     "output_type": "display_data"
    }
   ],
   "source": [
    "ax = sns.scatterplot(x=\"std\", y=\"total_days\", data=df4, alpha = 0.7)"
   ]
  },
  {
   "cell_type": "code",
   "execution_count": 142,
   "metadata": {},
   "outputs": [
    {
     "data": {
      "image/png": "[encoded data removed]",
      "text/plain": [
       "<Figure size 432x288 with 1 Axes>"
      ]
     },
     "metadata": {
      "needs_background": "light"
     },
     "output_type": "display_data"
    }
   ],
   "source": [
    "ax = sns.scatterplot(x=\"mean\", y=\"total_days\", data=df4, alpha = 0.7)"
   ]
  },
  {
   "cell_type": "code",
   "execution_count": null,
   "metadata": {},
   "outputs": [],
   "source": []
  }
 ],
 "metadata": {
  "kernelspec": {
   "display_name": "Python 3",
   "language": "python",
   "name": "python3"
  },
  "language_info": {
   "codemirror_mode": {
    "name": "ipython",
    "version": 3
   },
   "file_extension": ".py",
   "mimetype": "text/x-python",
   "name": "python",
   "nbconvert_exporter": "python",
   "pygments_lexer": "ipython3",
   "version": "3.6.8"
  }
 },
 "nbformat": 4,
 "nbformat_minor": 4
}
