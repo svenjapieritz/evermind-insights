{
 "cells": [
  {
   "cell_type": "code",
   "execution_count": 1,
   "metadata": {},
   "outputs": [
    {
     "data": {
      "text/plain": [
       "304155"
      ]
     },
     "execution_count": 1,
     "metadata": {},
     "output_type": "execute_result"
    }
   ],
   "source": [
    "# Import of the data \n",
    "# This can take a while \n",
    "\n",
    "import pyspark.sql.types as T\n",
    "import pyspark.sql.functions as F\n",
    "from pyspark.sql import Window\n",
    "\n",
    "DAU_SCHEMA = T.StructType([\n",
    "    T.StructField('userId', T.StringType()),\n",
    "    T.StructField('createdAt', T.StringType()),\n",
    "    T.StructField('element', T.StringType()),\n",
    "    T.StructField(\n",
    "        'data', T.StructType([\n",
    "            T.StructField('score', T.LongType()),\n",
    "            T.StructField('activity-title', T.StringType()),\n",
    "            T.StructField('simplefeedback', T.StringType()),\n",
    "        ]),\n",
    "    ),\n",
    "])\n",
    "\n",
    "PATH = \"s3a://alpha-health-pro/red/evermind/events/2020/04/*/*/*\"\n",
    "evermindDF_raw = spark.read.schema(schema=DAU_SCHEMA).json(PATH)\n",
    "evermindDF_raw.count()"
   ]
  },
  {
   "cell_type": "code",
   "execution_count": 2,
   "metadata": {},
   "outputs": [
    {
     "name": "stderr",
     "output_type": "stream",
     "text": [
      "/Users/yc00123/.virtualenvs/py3.6.8-data-access/lib/python3.6/site-packages/pandas/compat/__init__.py:117: UserWarning: Could not import the lzma module. Your installed Python is incomplete. Attempting to use lzma compression will result in a RuntimeError.\n",
      "  warnings.warn(msg)\n"
     ]
    }
   ],
   "source": [
    "df = evermindDF_raw\\\n",
    "    .withColumn(\"date\", F.date_format(F.to_timestamp(F.col(\"createdAt\")), \"yyyy-MM-dd\"))\\\n",
    "    .toPandas()"
   ]
  },
  {
   "cell_type": "code",
   "execution_count": 3,
   "metadata": {},
   "outputs": [],
   "source": [
    "df.dropna(subset = ['data'], inplace=True)"
   ]
  },
  {
   "cell_type": "code",
   "execution_count": 4,
   "metadata": {},
   "outputs": [
    {
     "data": {
      "text/html": [
       "<div>\n",
       "<style scoped>\n",
       "    .dataframe tbody tr th:only-of-type {\n",
       "        vertical-align: middle;\n",
       "    }\n",
       "\n",
       "    .dataframe tbody tr th {\n",
       "        vertical-align: top;\n",
       "    }\n",
       "\n",
       "    .dataframe thead th {\n",
       "        text-align: right;\n",
       "    }\n",
       "</style>\n",
       "<table border=\"1\" class=\"dataframe\">\n",
       "  <thead>\n",
       "    <tr style=\"text-align: right;\">\n",
       "      <th></th>\n",
       "      <th>userId</th>\n",
       "      <th>createdAt</th>\n",
       "      <th>element</th>\n",
       "      <th>data</th>\n",
       "      <th>date</th>\n",
       "    </tr>\n",
       "  </thead>\n",
       "  <tbody>\n",
       "    <tr>\n",
       "      <th>0</th>\n",
       "      <td>10b3bcd6-0a21-4a49-a32e-68ebd1953bf6</td>\n",
       "      <td>2020-04-08T00:23:05.168949+01:00</td>\n",
       "      <td>slide</td>\n",
       "      <td>(None, Your night ritual, None)</td>\n",
       "      <td>2020-04-08</td>\n",
       "    </tr>\n",
       "    <tr>\n",
       "      <th>1</th>\n",
       "      <td>10b3bcd6-0a21-4a49-a32e-68ebd1953bf6</td>\n",
       "      <td>2020-04-08T00:23:10.502777+01:00</td>\n",
       "      <td>slide</td>\n",
       "      <td>(None, Your night ritual, None)</td>\n",
       "      <td>2020-04-08</td>\n",
       "    </tr>\n",
       "    <tr>\n",
       "      <th>2</th>\n",
       "      <td>10b3bcd6-0a21-4a49-a32e-68ebd1953bf6</td>\n",
       "      <td>2020-04-08T00:23:12.119739+01:00</td>\n",
       "      <td>slide</td>\n",
       "      <td>(None, Your night ritual, None)</td>\n",
       "      <td>2020-04-08</td>\n",
       "    </tr>\n",
       "    <tr>\n",
       "      <th>3</th>\n",
       "      <td>0bc910b4-950f-4bf3-9b94-247f9f409d91</td>\n",
       "      <td>2020-04-07T19:23:06.886760-04:00</td>\n",
       "      <td>None</td>\n",
       "      <td>(None, None, None)</td>\n",
       "      <td>2020-04-08</td>\n",
       "    </tr>\n",
       "    <tr>\n",
       "      <th>4</th>\n",
       "      <td>3867d941-fa19-4763-ac61-98c6870a2fff</td>\n",
       "      <td>2020-04-07T19:23:15.302382-04:00</td>\n",
       "      <td>slide</td>\n",
       "      <td>(None, Dominating doubt and uncertainty, None)</td>\n",
       "      <td>2020-04-08</td>\n",
       "    </tr>\n",
       "    <tr>\n",
       "      <th>...</th>\n",
       "      <td>...</td>\n",
       "      <td>...</td>\n",
       "      <td>...</td>\n",
       "      <td>...</td>\n",
       "      <td>...</td>\n",
       "    </tr>\n",
       "    <tr>\n",
       "      <th>227267</th>\n",
       "      <td>fc5b3ea5-6541-4d74-836c-6b262f7567d3</td>\n",
       "      <td>2020-04-14T23:55:52.109376+01:00</td>\n",
       "      <td>None</td>\n",
       "      <td>(None, None, None)</td>\n",
       "      <td>2020-04-15</td>\n",
       "    </tr>\n",
       "    <tr>\n",
       "      <th>227268</th>\n",
       "      <td>788b34ee-1e56-42c1-bdec-c55185a1ff71</td>\n",
       "      <td>2020-04-01T10:11:54.295003+02:00</td>\n",
       "      <td>None</td>\n",
       "      <td>(None, None, None)</td>\n",
       "      <td>2020-04-01</td>\n",
       "    </tr>\n",
       "    <tr>\n",
       "      <th>227269</th>\n",
       "      <td>700cb20d-3c53-48eb-a0ae-6f57ee1fb11f</td>\n",
       "      <td>2020-04-16T16:10:07.838807-04:00</td>\n",
       "      <td>None</td>\n",
       "      <td>(None, None, None)</td>\n",
       "      <td>2020-04-16</td>\n",
       "    </tr>\n",
       "    <tr>\n",
       "      <th>227270</th>\n",
       "      <td>5fd39651-a617-4c03-b26a-bcef8a936b71</td>\n",
       "      <td>2020-04-18T21:02:54.724417-04:00</td>\n",
       "      <td>None</td>\n",
       "      <td>(None, None, None)</td>\n",
       "      <td>2020-04-19</td>\n",
       "    </tr>\n",
       "    <tr>\n",
       "      <th>227271</th>\n",
       "      <td>58b0feb7-426e-4186-a9d3-bf82ec21e85a</td>\n",
       "      <td>2020-04-22T20:31:49.230305-04:00</td>\n",
       "      <td>None</td>\n",
       "      <td>(None, None, None)</td>\n",
       "      <td>2020-04-23</td>\n",
       "    </tr>\n",
       "  </tbody>\n",
       "</table>\n",
       "<p>198325 rows × 5 columns</p>\n",
       "</div>"
      ],
      "text/plain": [
       "                                      userId  \\\n",
       "0       10b3bcd6-0a21-4a49-a32e-68ebd1953bf6   \n",
       "1       10b3bcd6-0a21-4a49-a32e-68ebd1953bf6   \n",
       "2       10b3bcd6-0a21-4a49-a32e-68ebd1953bf6   \n",
       "3       0bc910b4-950f-4bf3-9b94-247f9f409d91   \n",
       "4       3867d941-fa19-4763-ac61-98c6870a2fff   \n",
       "...                                      ...   \n",
       "227267  fc5b3ea5-6541-4d74-836c-6b262f7567d3   \n",
       "227268  788b34ee-1e56-42c1-bdec-c55185a1ff71   \n",
       "227269  700cb20d-3c53-48eb-a0ae-6f57ee1fb11f   \n",
       "227270  5fd39651-a617-4c03-b26a-bcef8a936b71   \n",
       "227271  58b0feb7-426e-4186-a9d3-bf82ec21e85a   \n",
       "\n",
       "                               createdAt element  \\\n",
       "0       2020-04-08T00:23:05.168949+01:00   slide   \n",
       "1       2020-04-08T00:23:10.502777+01:00   slide   \n",
       "2       2020-04-08T00:23:12.119739+01:00   slide   \n",
       "3       2020-04-07T19:23:06.886760-04:00    None   \n",
       "4       2020-04-07T19:23:15.302382-04:00   slide   \n",
       "...                                  ...     ...   \n",
       "227267  2020-04-14T23:55:52.109376+01:00    None   \n",
       "227268  2020-04-01T10:11:54.295003+02:00    None   \n",
       "227269  2020-04-16T16:10:07.838807-04:00    None   \n",
       "227270  2020-04-18T21:02:54.724417-04:00    None   \n",
       "227271  2020-04-22T20:31:49.230305-04:00    None   \n",
       "\n",
       "                                                  data        date  \n",
       "0                      (None, Your night ritual, None)  2020-04-08  \n",
       "1                      (None, Your night ritual, None)  2020-04-08  \n",
       "2                      (None, Your night ritual, None)  2020-04-08  \n",
       "3                                   (None, None, None)  2020-04-08  \n",
       "4       (None, Dominating doubt and uncertainty, None)  2020-04-08  \n",
       "...                                                ...         ...  \n",
       "227267                              (None, None, None)  2020-04-15  \n",
       "227268                              (None, None, None)  2020-04-01  \n",
       "227269                              (None, None, None)  2020-04-16  \n",
       "227270                              (None, None, None)  2020-04-19  \n",
       "227271                              (None, None, None)  2020-04-23  \n",
       "\n",
       "[198325 rows x 5 columns]"
      ]
     },
     "execution_count": 4,
     "metadata": {},
     "output_type": "execute_result"
    }
   ],
   "source": [
    "df"
   ]
  },
  {
   "cell_type": "code",
   "execution_count": 5,
   "metadata": {},
   "outputs": [],
   "source": [
    "import pandas as pd\n",
    "def get_data(x):\n",
    "    return x[0], x[1]\n",
    "\n",
    "df[['score', 'activity']] = df['data'].apply(lambda x: pd.Series(get_data(x)))\n",
    "df['score'] = pd.to_numeric(df['score'])"
   ]
  },
  {
   "cell_type": "code",
   "execution_count": 6,
   "metadata": {},
   "outputs": [],
   "source": [
    "#Categorise the activities in relax or thoughts\n",
    "def get_activity_category(x):\n",
    "    relax = ['Deep belly breathing', \"Beginner's progressive muscle relaxation\", \n",
    "        'Unguided deep belly breathing (5 min)', 'Progressive muscle relaxation', \n",
    "        'Unguided deep belly breathing (3 min)', 'Unguided deep belly breathing']\n",
    "    thoughts = ['Keeping a thought record', 'Spotting your repetitive thinking', \n",
    "        'Recognising unhelpful thoughts', 'Recognising unhelpful thoughts', \n",
    "        'Escape your repetitive thoughts']\n",
    "    if x in relax:\n",
    "        return 1\n",
    "    elif x in thoughts:\n",
    "        return 2\n",
    "    else:\n",
    "        return float('NaN')\n",
    "\n",
    "df['cat'] = df['activity'].apply(lambda x: get_activity_category(x))"
   ]
  },
  {
   "cell_type": "code",
   "execution_count": 7,
   "metadata": {},
   "outputs": [
    {
     "name": "stderr",
     "output_type": "stream",
     "text": [
      "/Users/yc00123/.virtualenvs/py3.6.8-data-access/lib/python3.6/site-packages/ipykernel_launcher.py:2: FutureWarning: Indexing with multiple keys (implicitly converted to a tuple of keys) will be deprecated, use a list instead.\n",
      "  \n"
     ]
    },
    {
     "data": {
      "text/html": [
       "<div>\n",
       "<style scoped>\n",
       "    .dataframe tbody tr th:only-of-type {\n",
       "        vertical-align: middle;\n",
       "    }\n",
       "\n",
       "    .dataframe tbody tr th {\n",
       "        vertical-align: top;\n",
       "    }\n",
       "\n",
       "    .dataframe thead th {\n",
       "        text-align: right;\n",
       "    }\n",
       "</style>\n",
       "<table border=\"1\" class=\"dataframe\">\n",
       "  <thead>\n",
       "    <tr style=\"text-align: right;\">\n",
       "      <th></th>\n",
       "      <th></th>\n",
       "      <th>score</th>\n",
       "      <th>cat</th>\n",
       "      <th>element</th>\n",
       "    </tr>\n",
       "    <tr>\n",
       "      <th>userId</th>\n",
       "      <th>date</th>\n",
       "      <th></th>\n",
       "      <th></th>\n",
       "      <th></th>\n",
       "    </tr>\n",
       "  </thead>\n",
       "  <tbody>\n",
       "    <tr>\n",
       "      <th rowspan=\"5\" valign=\"top\"></th>\n",
       "      <th>2020-03-20</th>\n",
       "      <td>[nan, nan, nan, nan, nan]</td>\n",
       "      <td>[nan, nan, nan, nan, nan]</td>\n",
       "      <td>[None, None, None, None, None]</td>\n",
       "    </tr>\n",
       "    <tr>\n",
       "      <th>2020-03-22</th>\n",
       "      <td>[nan, nan, nan]</td>\n",
       "      <td>[nan, nan, nan]</td>\n",
       "      <td>[None, None, None]</td>\n",
       "    </tr>\n",
       "    <tr>\n",
       "      <th>2020-03-23</th>\n",
       "      <td>[nan, nan, nan]</td>\n",
       "      <td>[nan, nan, nan]</td>\n",
       "      <td>[None, None, None]</td>\n",
       "    </tr>\n",
       "    <tr>\n",
       "      <th>2020-03-24</th>\n",
       "      <td>[nan, nan, nan, nan, nan, nan, nan, nan, nan, ...</td>\n",
       "      <td>[nan, nan, nan, nan, nan, nan, nan, nan, nan, ...</td>\n",
       "      <td>[None, None, None, None, None, None, None, Non...</td>\n",
       "    </tr>\n",
       "    <tr>\n",
       "      <th>2020-03-25</th>\n",
       "      <td>[nan, nan]</td>\n",
       "      <td>[nan, nan]</td>\n",
       "      <td>[login, None]</td>\n",
       "    </tr>\n",
       "  </tbody>\n",
       "</table>\n",
       "</div>"
      ],
      "text/plain": [
       "                                                               score  \\\n",
       "userId date                                                            \n",
       "       2020-03-20                          [nan, nan, nan, nan, nan]   \n",
       "       2020-03-22                                    [nan, nan, nan]   \n",
       "       2020-03-23                                    [nan, nan, nan]   \n",
       "       2020-03-24  [nan, nan, nan, nan, nan, nan, nan, nan, nan, ...   \n",
       "       2020-03-25                                         [nan, nan]   \n",
       "\n",
       "                                                                 cat  \\\n",
       "userId date                                                            \n",
       "       2020-03-20                          [nan, nan, nan, nan, nan]   \n",
       "       2020-03-22                                    [nan, nan, nan]   \n",
       "       2020-03-23                                    [nan, nan, nan]   \n",
       "       2020-03-24  [nan, nan, nan, nan, nan, nan, nan, nan, nan, ...   \n",
       "       2020-03-25                                         [nan, nan]   \n",
       "\n",
       "                                                             element  \n",
       "userId date                                                           \n",
       "       2020-03-20                     [None, None, None, None, None]  \n",
       "       2020-03-22                                 [None, None, None]  \n",
       "       2020-03-23                                 [None, None, None]  \n",
       "       2020-03-24  [None, None, None, None, None, None, None, Non...  \n",
       "       2020-03-25                                      [login, None]  "
      ]
     },
     "execution_count": 7,
     "metadata": {},
     "output_type": "execute_result"
    }
   ],
   "source": [
    "df2 = df.groupby(['userId','date'])\n",
    "df2 = df2['score', 'cat', 'element'].agg(list)\n",
    "df2.head()"
   ]
  },
  {
   "cell_type": "code",
   "execution_count": 8,
   "metadata": {},
   "outputs": [
    {
     "name": "stderr",
     "output_type": "stream",
     "text": [
      "/Users/yc00123/.virtualenvs/py3.6.8-data-access/lib/python3.6/site-packages/ipykernel_launcher.py:11: DeprecationWarning: The default dtype for empty Series will be 'object' instead of 'float64' in a future version. Specify a dtype explicitly to silence this warning.\n",
      "  # This is added back by InteractiveShellApp.init_path()\n"
     ]
    }
   ],
   "source": [
    "#Mark the days with an assessment and categorise the PSS in low, medium and high\n",
    "def get_score_days(x):\n",
    "    for ele in x: \n",
    "        if 0 < ele <= 12:\n",
    "            return 0, 1\n",
    "        elif 12 < ele <= 27:\n",
    "            return 1, 1\n",
    "        elif ele > 27:\n",
    "            return 2, 1\n",
    "\n",
    "df2[['scores', 'score_day']] = df2['score'].apply(lambda x: pd.Series(get_score_days(x)))"
   ]
  },
  {
   "cell_type": "code",
   "execution_count": 9,
   "metadata": {},
   "outputs": [],
   "source": [
    "def get_raw_score(x):\n",
    "    for ele in x: \n",
    "        if ele > 0:\n",
    "            return ele\n",
    "\n",
    "df2['raw_scores'] = df2['score'].apply(lambda x: get_raw_score(x))"
   ]
  },
  {
   "cell_type": "code",
   "execution_count": 10,
   "metadata": {},
   "outputs": [],
   "source": [
    "df2.dropna(subset = ['score_day'], inplace=True)"
   ]
  },
  {
   "cell_type": "code",
   "execution_count": 11,
   "metadata": {},
   "outputs": [
    {
     "name": "stderr",
     "output_type": "stream",
     "text": [
      "/Users/yc00123/.virtualenvs/py3.6.8-data-access/lib/python3.6/site-packages/ipykernel_launcher.py:3: RuntimeWarning: Mean of empty slice\n",
      "  This is separate from the ipykernel package so we can avoid doing imports until\n"
     ]
    }
   ],
   "source": [
    "import numpy as np\n",
    "def get_mean_cat(x):\n",
    "    return np.nanmean(x)\n",
    "    \n",
    "    \n",
    "df2['mean_activity'] = df2['cat'].apply(lambda x: get_mean_cat(x))"
   ]
  },
  {
   "cell_type": "code",
   "execution_count": 12,
   "metadata": {},
   "outputs": [],
   "source": [
    "df2.dropna(subset = ['mean_activity'], inplace=True)"
   ]
  },
  {
   "cell_type": "code",
   "execution_count": 13,
   "metadata": {},
   "outputs": [],
   "source": [
    "def get_ratings(x):\n",
    "    ratings = []\n",
    "    for ele in x: \n",
    "        if ele == 'good':\n",
    "            ratings.append(2)\n",
    "        elif ele == 'bad':\n",
    "            ratings.append(1)\n",
    "        else: \n",
    "            ratings.append(float('NaN'))\n",
    "    return ratings\n",
    "\n",
    "df2['ratings'] = df2['element'].apply(lambda x: get_ratings(x))"
   ]
  },
  {
   "cell_type": "code",
   "execution_count": 14,
   "metadata": {},
   "outputs": [
    {
     "name": "stderr",
     "output_type": "stream",
     "text": [
      "/Users/yc00123/.virtualenvs/py3.6.8-data-access/lib/python3.6/site-packages/ipykernel_launcher.py:3: RuntimeWarning: Mean of empty slice\n",
      "  This is separate from the ipykernel package so we can avoid doing imports until\n"
     ]
    }
   ],
   "source": [
    "import numpy as np\n",
    "def get_mean_rating(x):\n",
    "    return np.nanmean(x)\n",
    "    \n",
    "    \n",
    "df2['mean_rating'] = df2['ratings'].apply(lambda x: get_mean_rating(x))"
   ]
  },
  {
   "cell_type": "code",
   "execution_count": 15,
   "metadata": {},
   "outputs": [],
   "source": [
    "df3 = df2.copy()\n",
    "df3.dropna(subset = ['mean_rating'], inplace=True)"
   ]
  },
  {
   "cell_type": "code",
   "execution_count": 16,
   "metadata": {},
   "outputs": [
    {
     "data": {
      "text/html": [
       "<div>\n",
       "<style scoped>\n",
       "    .dataframe tbody tr th:only-of-type {\n",
       "        vertical-align: middle;\n",
       "    }\n",
       "\n",
       "    .dataframe tbody tr th {\n",
       "        vertical-align: top;\n",
       "    }\n",
       "\n",
       "    .dataframe thead th {\n",
       "        text-align: right;\n",
       "    }\n",
       "</style>\n",
       "<table border=\"1\" class=\"dataframe\">\n",
       "  <thead>\n",
       "    <tr style=\"text-align: right;\">\n",
       "      <th></th>\n",
       "      <th></th>\n",
       "      <th>score</th>\n",
       "      <th>cat</th>\n",
       "      <th>element</th>\n",
       "      <th>scores</th>\n",
       "      <th>score_day</th>\n",
       "      <th>raw_scores</th>\n",
       "      <th>mean_activity</th>\n",
       "      <th>ratings</th>\n",
       "      <th>mean_rating</th>\n",
       "    </tr>\n",
       "    <tr>\n",
       "      <th>userId</th>\n",
       "      <th>date</th>\n",
       "      <th></th>\n",
       "      <th></th>\n",
       "      <th></th>\n",
       "      <th></th>\n",
       "      <th></th>\n",
       "      <th></th>\n",
       "      <th></th>\n",
       "      <th></th>\n",
       "      <th></th>\n",
       "    </tr>\n",
       "  </thead>\n",
       "  <tbody>\n",
       "    <tr>\n",
       "      <th>019c62b4-0135-4ae5-a46c-3f898729cd99</th>\n",
       "      <th>2020-04-07</th>\n",
       "      <td>[nan, nan, nan, nan, nan, nan, nan, nan, nan, ...</td>\n",
       "      <td>[nan, nan, nan, nan, nan, nan, nan, nan, nan, ...</td>\n",
       "      <td>[keep_reading, None, new, back, None, new, sta...</td>\n",
       "      <td>1.0</td>\n",
       "      <td>1.0</td>\n",
       "      <td>20.0</td>\n",
       "      <td>2.000000</td>\n",
       "      <td>[nan, nan, nan, nan, nan, nan, nan, nan, nan, ...</td>\n",
       "      <td>1.000000</td>\n",
       "    </tr>\n",
       "    <tr>\n",
       "      <th>02d7f1da-47dd-4c58-b868-feecb3dfee0b</th>\n",
       "      <th>2020-04-21</th>\n",
       "      <td>[nan, nan, nan, nan, nan, nan, nan, nan, nan, ...</td>\n",
       "      <td>[nan, nan, nan, nan, nan, nan, nan, nan, nan, ...</td>\n",
       "      <td>[None, None, activity_shape, None, None, None,...</td>\n",
       "      <td>0.0</td>\n",
       "      <td>1.0</td>\n",
       "      <td>8.0</td>\n",
       "      <td>1.000000</td>\n",
       "      <td>[nan, nan, nan, nan, nan, nan, nan, nan, nan, ...</td>\n",
       "      <td>2.000000</td>\n",
       "    </tr>\n",
       "    <tr>\n",
       "      <th>030888cc-e402-428a-b789-85df736a1109</th>\n",
       "      <th>2020-04-02</th>\n",
       "      <td>[nan, nan, nan, nan, nan, nan, nan, nan, nan, ...</td>\n",
       "      <td>[nan, nan, nan, 2.0, nan, 2.0, 2.0, 2.0, 2.0, ...</td>\n",
       "      <td>[None, None, step, activity_shape, None, None,...</td>\n",
       "      <td>0.0</td>\n",
       "      <td>1.0</td>\n",
       "      <td>9.0</td>\n",
       "      <td>2.000000</td>\n",
       "      <td>[nan, nan, nan, nan, nan, nan, nan, nan, nan, ...</td>\n",
       "      <td>1.666667</td>\n",
       "    </tr>\n",
       "    <tr>\n",
       "      <th>036e2ac8-8d5c-4df9-925f-6d4a63145759</th>\n",
       "      <th>2020-04-08</th>\n",
       "      <td>[nan, nan, nan, nan, nan, nan, nan, nan, nan, ...</td>\n",
       "      <td>[nan, nan, nan, nan, nan, nan, nan, nan, nan, ...</td>\n",
       "      <td>[None, start_assessment, None, None, None, Non...</td>\n",
       "      <td>1.0</td>\n",
       "      <td>1.0</td>\n",
       "      <td>18.0</td>\n",
       "      <td>2.000000</td>\n",
       "      <td>[nan, nan, nan, nan, nan, nan, nan, nan, nan, ...</td>\n",
       "      <td>1.000000</td>\n",
       "    </tr>\n",
       "    <tr>\n",
       "      <th>059a494f-ff2c-474f-a6bf-6f686bc2e307</th>\n",
       "      <th>2020-04-09</th>\n",
       "      <td>[nan, nan, nan, nan, nan, nan, nan, nan, nan, ...</td>\n",
       "      <td>[nan, nan, nan, nan, nan, nan, nan, nan, nan, ...</td>\n",
       "      <td>[None, None, None, None, programme_card, None,...</td>\n",
       "      <td>1.0</td>\n",
       "      <td>1.0</td>\n",
       "      <td>21.0</td>\n",
       "      <td>2.000000</td>\n",
       "      <td>[nan, nan, nan, nan, nan, nan, nan, nan, nan, ...</td>\n",
       "      <td>2.000000</td>\n",
       "    </tr>\n",
       "    <tr>\n",
       "      <th>...</th>\n",
       "      <th>...</th>\n",
       "      <td>...</td>\n",
       "      <td>...</td>\n",
       "      <td>...</td>\n",
       "      <td>...</td>\n",
       "      <td>...</td>\n",
       "      <td>...</td>\n",
       "      <td>...</td>\n",
       "      <td>...</td>\n",
       "      <td>...</td>\n",
       "    </tr>\n",
       "    <tr>\n",
       "      <th>f9fb2d35-7171-42f2-99b1-ab61b8bf8bea</th>\n",
       "      <th>2020-04-07</th>\n",
       "      <td>[nan, nan, nan, nan, nan, nan, nan, nan, nan, ...</td>\n",
       "      <td>[2.0, 2.0, 2.0, 2.0, 2.0, 2.0, 2.0, nan, nan, ...</td>\n",
       "      <td>[input-done, next, write-feedback, input-done,...</td>\n",
       "      <td>1.0</td>\n",
       "      <td>1.0</td>\n",
       "      <td>20.0</td>\n",
       "      <td>2.000000</td>\n",
       "      <td>[nan, nan, nan, nan, nan, nan, 2, nan, nan, na...</td>\n",
       "      <td>2.000000</td>\n",
       "    </tr>\n",
       "    <tr>\n",
       "      <th>faa191a6-eebd-468d-b17e-fce5c8777228</th>\n",
       "      <th>2020-04-21</th>\n",
       "      <td>[nan, nan, nan, nan, nan, nan, nan, nan, nan, ...</td>\n",
       "      <td>[nan, nan, nan, nan, 2.0, nan, nan, nan, nan, ...</td>\n",
       "      <td>[back, None, list_activity, list_activity, lis...</td>\n",
       "      <td>1.0</td>\n",
       "      <td>1.0</td>\n",
       "      <td>21.0</td>\n",
       "      <td>1.870968</td>\n",
       "      <td>[nan, nan, nan, nan, nan, nan, nan, nan, nan, ...</td>\n",
       "      <td>2.000000</td>\n",
       "    </tr>\n",
       "    <tr>\n",
       "      <th>fb7e54f8-372e-407e-ac8e-3fb85139f84a</th>\n",
       "      <th>2020-04-08</th>\n",
       "      <td>[nan, nan, nan, nan, nan, nan, nan, nan, nan, ...</td>\n",
       "      <td>[nan, nan, nan, nan, nan, nan, nan, nan, nan, ...</td>\n",
       "      <td>[None, None, None, None, None, None, None, Non...</td>\n",
       "      <td>2.0</td>\n",
       "      <td>1.0</td>\n",
       "      <td>34.0</td>\n",
       "      <td>2.000000</td>\n",
       "      <td>[nan, nan, nan, nan, nan, nan, nan, nan, nan, ...</td>\n",
       "      <td>2.000000</td>\n",
       "    </tr>\n",
       "    <tr>\n",
       "      <th>fc348871-0213-4a28-9446-9422b3496e68</th>\n",
       "      <th>2020-04-20</th>\n",
       "      <td>[nan, nan, nan, nan, nan, nan, nan, nan, nan, ...</td>\n",
       "      <td>[nan, nan, nan, nan, nan, nan, nan, nan, nan, ...</td>\n",
       "      <td>[modules_tab, modules_tab, None, None, None, p...</td>\n",
       "      <td>2.0</td>\n",
       "      <td>1.0</td>\n",
       "      <td>30.0</td>\n",
       "      <td>2.000000</td>\n",
       "      <td>[nan, nan, nan, nan, nan, nan, nan, nan, nan, ...</td>\n",
       "      <td>2.000000</td>\n",
       "    </tr>\n",
       "    <tr>\n",
       "      <th>fcdb3bb8-e1a4-4a97-bf4d-da6bd64eb63d</th>\n",
       "      <th>2020-04-16</th>\n",
       "      <td>[nan, nan, nan, nan, nan, nan, nan, nan, nan, ...</td>\n",
       "      <td>[nan, nan, nan, nan, nan, nan, nan, nan, nan, ...</td>\n",
       "      <td>[None, start_assessment, None, None, None, Non...</td>\n",
       "      <td>2.0</td>\n",
       "      <td>1.0</td>\n",
       "      <td>36.0</td>\n",
       "      <td>2.000000</td>\n",
       "      <td>[nan, nan, nan, nan, nan, nan, nan, nan, nan, ...</td>\n",
       "      <td>2.000000</td>\n",
       "    </tr>\n",
       "  </tbody>\n",
       "</table>\n",
       "<p>268 rows × 9 columns</p>\n",
       "</div>"
      ],
      "text/plain": [
       "                                                                                             score  \\\n",
       "userId                               date                                                            \n",
       "019c62b4-0135-4ae5-a46c-3f898729cd99 2020-04-07  [nan, nan, nan, nan, nan, nan, nan, nan, nan, ...   \n",
       "02d7f1da-47dd-4c58-b868-feecb3dfee0b 2020-04-21  [nan, nan, nan, nan, nan, nan, nan, nan, nan, ...   \n",
       "030888cc-e402-428a-b789-85df736a1109 2020-04-02  [nan, nan, nan, nan, nan, nan, nan, nan, nan, ...   \n",
       "036e2ac8-8d5c-4df9-925f-6d4a63145759 2020-04-08  [nan, nan, nan, nan, nan, nan, nan, nan, nan, ...   \n",
       "059a494f-ff2c-474f-a6bf-6f686bc2e307 2020-04-09  [nan, nan, nan, nan, nan, nan, nan, nan, nan, ...   \n",
       "...                                                                                            ...   \n",
       "f9fb2d35-7171-42f2-99b1-ab61b8bf8bea 2020-04-07  [nan, nan, nan, nan, nan, nan, nan, nan, nan, ...   \n",
       "faa191a6-eebd-468d-b17e-fce5c8777228 2020-04-21  [nan, nan, nan, nan, nan, nan, nan, nan, nan, ...   \n",
       "fb7e54f8-372e-407e-ac8e-3fb85139f84a 2020-04-08  [nan, nan, nan, nan, nan, nan, nan, nan, nan, ...   \n",
       "fc348871-0213-4a28-9446-9422b3496e68 2020-04-20  [nan, nan, nan, nan, nan, nan, nan, nan, nan, ...   \n",
       "fcdb3bb8-e1a4-4a97-bf4d-da6bd64eb63d 2020-04-16  [nan, nan, nan, nan, nan, nan, nan, nan, nan, ...   \n",
       "\n",
       "                                                                                               cat  \\\n",
       "userId                               date                                                            \n",
       "019c62b4-0135-4ae5-a46c-3f898729cd99 2020-04-07  [nan, nan, nan, nan, nan, nan, nan, nan, nan, ...   \n",
       "02d7f1da-47dd-4c58-b868-feecb3dfee0b 2020-04-21  [nan, nan, nan, nan, nan, nan, nan, nan, nan, ...   \n",
       "030888cc-e402-428a-b789-85df736a1109 2020-04-02  [nan, nan, nan, 2.0, nan, 2.0, 2.0, 2.0, 2.0, ...   \n",
       "036e2ac8-8d5c-4df9-925f-6d4a63145759 2020-04-08  [nan, nan, nan, nan, nan, nan, nan, nan, nan, ...   \n",
       "059a494f-ff2c-474f-a6bf-6f686bc2e307 2020-04-09  [nan, nan, nan, nan, nan, nan, nan, nan, nan, ...   \n",
       "...                                                                                            ...   \n",
       "f9fb2d35-7171-42f2-99b1-ab61b8bf8bea 2020-04-07  [2.0, 2.0, 2.0, 2.0, 2.0, 2.0, 2.0, nan, nan, ...   \n",
       "faa191a6-eebd-468d-b17e-fce5c8777228 2020-04-21  [nan, nan, nan, nan, 2.0, nan, nan, nan, nan, ...   \n",
       "fb7e54f8-372e-407e-ac8e-3fb85139f84a 2020-04-08  [nan, nan, nan, nan, nan, nan, nan, nan, nan, ...   \n",
       "fc348871-0213-4a28-9446-9422b3496e68 2020-04-20  [nan, nan, nan, nan, nan, nan, nan, nan, nan, ...   \n",
       "fcdb3bb8-e1a4-4a97-bf4d-da6bd64eb63d 2020-04-16  [nan, nan, nan, nan, nan, nan, nan, nan, nan, ...   \n",
       "\n",
       "                                                                                           element  \\\n",
       "userId                               date                                                            \n",
       "019c62b4-0135-4ae5-a46c-3f898729cd99 2020-04-07  [keep_reading, None, new, back, None, new, sta...   \n",
       "02d7f1da-47dd-4c58-b868-feecb3dfee0b 2020-04-21  [None, None, activity_shape, None, None, None,...   \n",
       "030888cc-e402-428a-b789-85df736a1109 2020-04-02  [None, None, step, activity_shape, None, None,...   \n",
       "036e2ac8-8d5c-4df9-925f-6d4a63145759 2020-04-08  [None, start_assessment, None, None, None, Non...   \n",
       "059a494f-ff2c-474f-a6bf-6f686bc2e307 2020-04-09  [None, None, None, None, programme_card, None,...   \n",
       "...                                                                                            ...   \n",
       "f9fb2d35-7171-42f2-99b1-ab61b8bf8bea 2020-04-07  [input-done, next, write-feedback, input-done,...   \n",
       "faa191a6-eebd-468d-b17e-fce5c8777228 2020-04-21  [back, None, list_activity, list_activity, lis...   \n",
       "fb7e54f8-372e-407e-ac8e-3fb85139f84a 2020-04-08  [None, None, None, None, None, None, None, Non...   \n",
       "fc348871-0213-4a28-9446-9422b3496e68 2020-04-20  [modules_tab, modules_tab, None, None, None, p...   \n",
       "fcdb3bb8-e1a4-4a97-bf4d-da6bd64eb63d 2020-04-16  [None, start_assessment, None, None, None, Non...   \n",
       "\n",
       "                                                 scores  score_day  \\\n",
       "userId                               date                            \n",
       "019c62b4-0135-4ae5-a46c-3f898729cd99 2020-04-07     1.0        1.0   \n",
       "02d7f1da-47dd-4c58-b868-feecb3dfee0b 2020-04-21     0.0        1.0   \n",
       "030888cc-e402-428a-b789-85df736a1109 2020-04-02     0.0        1.0   \n",
       "036e2ac8-8d5c-4df9-925f-6d4a63145759 2020-04-08     1.0        1.0   \n",
       "059a494f-ff2c-474f-a6bf-6f686bc2e307 2020-04-09     1.0        1.0   \n",
       "...                                                 ...        ...   \n",
       "f9fb2d35-7171-42f2-99b1-ab61b8bf8bea 2020-04-07     1.0        1.0   \n",
       "faa191a6-eebd-468d-b17e-fce5c8777228 2020-04-21     1.0        1.0   \n",
       "fb7e54f8-372e-407e-ac8e-3fb85139f84a 2020-04-08     2.0        1.0   \n",
       "fc348871-0213-4a28-9446-9422b3496e68 2020-04-20     2.0        1.0   \n",
       "fcdb3bb8-e1a4-4a97-bf4d-da6bd64eb63d 2020-04-16     2.0        1.0   \n",
       "\n",
       "                                                 raw_scores  mean_activity  \\\n",
       "userId                               date                                    \n",
       "019c62b4-0135-4ae5-a46c-3f898729cd99 2020-04-07        20.0       2.000000   \n",
       "02d7f1da-47dd-4c58-b868-feecb3dfee0b 2020-04-21         8.0       1.000000   \n",
       "030888cc-e402-428a-b789-85df736a1109 2020-04-02         9.0       2.000000   \n",
       "036e2ac8-8d5c-4df9-925f-6d4a63145759 2020-04-08        18.0       2.000000   \n",
       "059a494f-ff2c-474f-a6bf-6f686bc2e307 2020-04-09        21.0       2.000000   \n",
       "...                                                     ...            ...   \n",
       "f9fb2d35-7171-42f2-99b1-ab61b8bf8bea 2020-04-07        20.0       2.000000   \n",
       "faa191a6-eebd-468d-b17e-fce5c8777228 2020-04-21        21.0       1.870968   \n",
       "fb7e54f8-372e-407e-ac8e-3fb85139f84a 2020-04-08        34.0       2.000000   \n",
       "fc348871-0213-4a28-9446-9422b3496e68 2020-04-20        30.0       2.000000   \n",
       "fcdb3bb8-e1a4-4a97-bf4d-da6bd64eb63d 2020-04-16        36.0       2.000000   \n",
       "\n",
       "                                                                                           ratings  \\\n",
       "userId                               date                                                            \n",
       "019c62b4-0135-4ae5-a46c-3f898729cd99 2020-04-07  [nan, nan, nan, nan, nan, nan, nan, nan, nan, ...   \n",
       "02d7f1da-47dd-4c58-b868-feecb3dfee0b 2020-04-21  [nan, nan, nan, nan, nan, nan, nan, nan, nan, ...   \n",
       "030888cc-e402-428a-b789-85df736a1109 2020-04-02  [nan, nan, nan, nan, nan, nan, nan, nan, nan, ...   \n",
       "036e2ac8-8d5c-4df9-925f-6d4a63145759 2020-04-08  [nan, nan, nan, nan, nan, nan, nan, nan, nan, ...   \n",
       "059a494f-ff2c-474f-a6bf-6f686bc2e307 2020-04-09  [nan, nan, nan, nan, nan, nan, nan, nan, nan, ...   \n",
       "...                                                                                            ...   \n",
       "f9fb2d35-7171-42f2-99b1-ab61b8bf8bea 2020-04-07  [nan, nan, nan, nan, nan, nan, 2, nan, nan, na...   \n",
       "faa191a6-eebd-468d-b17e-fce5c8777228 2020-04-21  [nan, nan, nan, nan, nan, nan, nan, nan, nan, ...   \n",
       "fb7e54f8-372e-407e-ac8e-3fb85139f84a 2020-04-08  [nan, nan, nan, nan, nan, nan, nan, nan, nan, ...   \n",
       "fc348871-0213-4a28-9446-9422b3496e68 2020-04-20  [nan, nan, nan, nan, nan, nan, nan, nan, nan, ...   \n",
       "fcdb3bb8-e1a4-4a97-bf4d-da6bd64eb63d 2020-04-16  [nan, nan, nan, nan, nan, nan, nan, nan, nan, ...   \n",
       "\n",
       "                                                 mean_rating  \n",
       "userId                               date                     \n",
       "019c62b4-0135-4ae5-a46c-3f898729cd99 2020-04-07     1.000000  \n",
       "02d7f1da-47dd-4c58-b868-feecb3dfee0b 2020-04-21     2.000000  \n",
       "030888cc-e402-428a-b789-85df736a1109 2020-04-02     1.666667  \n",
       "036e2ac8-8d5c-4df9-925f-6d4a63145759 2020-04-08     1.000000  \n",
       "059a494f-ff2c-474f-a6bf-6f686bc2e307 2020-04-09     2.000000  \n",
       "...                                                      ...  \n",
       "f9fb2d35-7171-42f2-99b1-ab61b8bf8bea 2020-04-07     2.000000  \n",
       "faa191a6-eebd-468d-b17e-fce5c8777228 2020-04-21     2.000000  \n",
       "fb7e54f8-372e-407e-ac8e-3fb85139f84a 2020-04-08     2.000000  \n",
       "fc348871-0213-4a28-9446-9422b3496e68 2020-04-20     2.000000  \n",
       "fcdb3bb8-e1a4-4a97-bf4d-da6bd64eb63d 2020-04-16     2.000000  \n",
       "\n",
       "[268 rows x 9 columns]"
      ]
     },
     "execution_count": 16,
     "metadata": {},
     "output_type": "execute_result"
    }
   ],
   "source": [
    "df3"
   ]
  },
  {
   "cell_type": "markdown",
   "metadata": {},
   "source": [
    "## Hypothesis testing\n",
    "\n",
    "H1: Positive thought journaling will be better at reducing stress than mindfulness in negative (stress) condition\n",
    "\n",
    "H2: Mindfulness will be equally as effective as positive thought journaling in relaxed condition since the focus on the current thoughts should naturally be positive after relaxed mood induction making both interventions more similar\n"
   ]
  },
  {
   "cell_type": "code",
   "execution_count": 17,
   "metadata": {},
   "outputs": [
    {
     "data": {
      "text/plain": [
       "Ttest_indResult(statistic=-1.8314324120840593, pvalue=0.06987123764791901)"
      ]
     },
     "execution_count": 17,
     "metadata": {},
     "output_type": "execute_result"
    }
   ],
   "source": [
    "from scipy import stats\n",
    "low = df2[df2['scores']==0]['mean_activity']\n",
    "high = df2[df2['scores']==2]['mean_activity']\n",
    "stats.ttest_ind(low, high)"
   ]
  },
  {
   "cell_type": "code",
   "execution_count": 18,
   "metadata": {},
   "outputs": [
    {
     "data": {
      "text/plain": [
       "<seaborn.axisgrid.FacetGrid at 0x10e175588>"
      ]
     },
     "execution_count": 18,
     "metadata": {},
     "output_type": "execute_result"
    },
    {
     "data": {
      "image/png": "[encoded data removed]",
      "text/plain": [
       "<Figure size 360x360 with 1 Axes>"
      ]
     },
     "metadata": {
      "needs_background": "light"
     },
     "output_type": "display_data"
    }
   ],
   "source": [
    "import seaborn as sns\n",
    "fig = sns.catplot(x=\"scores\", y=\"mean_activity\", kind=\"bar\", data =df2)\n",
    "fig.set_axis_labels('Stress Category', 'Average Activity (1=only relaxing, 2=only thoughts)')\n",
    "fig.set_xticklabels([\"low\", \"medium\", \"high\"])\n",
    "fig.set(ylim=(1,2))"
   ]
  },
  {
   "cell_type": "markdown",
   "metadata": {},
   "source": [
    "- Found a significant difference between the chosen activities of low and high stress groups (p < .001)\n",
    "- Users with low stress score prefere relaxing activities, whereas users with high stress scores prefer working with thoughts"
   ]
  },
  {
   "cell_type": "code",
   "execution_count": 19,
   "metadata": {},
   "outputs": [
    {
     "data": {
      "text/plain": [
       "Ttest_indResult(statistic=2.717692173606818, pvalue=0.008229531865736793)"
      ]
     },
     "execution_count": 19,
     "metadata": {},
     "output_type": "execute_result"
    }
   ],
   "source": [
    "from scipy import stats\n",
    "low = df3[df3['scores']==0]['mean_rating']\n",
    "high = df3[df3['scores']==2]['mean_rating']\n",
    "stats.ttest_ind(low, high)"
   ]
  },
  {
   "cell_type": "code",
   "execution_count": 20,
   "metadata": {},
   "outputs": [
    {
     "data": {
      "text/plain": [
       "<seaborn.axisgrid.FacetGrid at 0x1184abcf8>"
      ]
     },
     "execution_count": 20,
     "metadata": {},
     "output_type": "execute_result"
    },
    {
     "data": {
      "image/png": "[encoded data removed]",
      "text/plain": [
       "<Figure size 360x360 with 1 Axes>"
      ]
     },
     "metadata": {
      "needs_background": "light"
     },
     "output_type": "display_data"
    }
   ],
   "source": [
    "fig = sns.catplot(x=\"scores\", y=\"mean_rating\", kind=\"bar\", data =df3)\n",
    "fig.set_axis_labels('Stress Category', 'Average Activity (1=bad, 2=good)')\n",
    "fig.set_xticklabels([\"low\", \"medium\", \"high\"])\n",
    "fig.set(ylim=(1,2))"
   ]
  },
  {
   "cell_type": "code",
   "execution_count": null,
   "metadata": {},
   "outputs": [],
   "source": []
  }
 ],
 "metadata": {
  "kernelspec": {
   "display_name": "Python 3",
   "language": "python",
   "name": "python3"
  },
  "language_info": {
   "codemirror_mode": {
    "name": "ipython",
    "version": 3
   },
   "file_extension": ".py",
   "mimetype": "text/x-python",
   "name": "python",
   "nbconvert_exporter": "python",
   "pygments_lexer": "ipython3",
   "version": "3.6.8"
  }
 },
 "nbformat": 4,
 "nbformat_minor": 4
}
