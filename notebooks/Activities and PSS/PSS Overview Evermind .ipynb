{
 "cells": [
  {
   "cell_type": "code",
   "execution_count": 1,
   "metadata": {},
   "outputs": [
    {
     "ename": "ModuleNotFoundError",
     "evalue": "No module named 'pyspark'",
     "output_type": "error",
     "traceback": [
      "\u001b[0;31m---------------------------------------------------------------------------\u001b[0m",
      "\u001b[0;31mModuleNotFoundError\u001b[0m                       Traceback (most recent call last)",
      "\u001b[0;32m<ipython-input-1-405eba22757c>\u001b[0m in \u001b[0;36m<module>\u001b[0;34m\u001b[0m\n\u001b[1;32m      2\u001b[0m \u001b[0;31m# This can take a while\u001b[0m\u001b[0;34m\u001b[0m\u001b[0;34m\u001b[0m\u001b[0;34m\u001b[0m\u001b[0m\n\u001b[1;32m      3\u001b[0m \u001b[0;34m\u001b[0m\u001b[0m\n\u001b[0;32m----> 4\u001b[0;31m \u001b[0;32mimport\u001b[0m \u001b[0mpyspark\u001b[0m\u001b[0;34m.\u001b[0m\u001b[0msql\u001b[0m\u001b[0;34m.\u001b[0m\u001b[0mtypes\u001b[0m \u001b[0;32mas\u001b[0m \u001b[0mT\u001b[0m\u001b[0;34m\u001b[0m\u001b[0;34m\u001b[0m\u001b[0m\n\u001b[0m\u001b[1;32m      5\u001b[0m \u001b[0;32mimport\u001b[0m \u001b[0mpyspark\u001b[0m\u001b[0;34m.\u001b[0m\u001b[0msql\u001b[0m\u001b[0;34m.\u001b[0m\u001b[0mfunctions\u001b[0m \u001b[0;32mas\u001b[0m \u001b[0mF\u001b[0m\u001b[0;34m\u001b[0m\u001b[0;34m\u001b[0m\u001b[0m\n\u001b[1;32m      6\u001b[0m \u001b[0;32mfrom\u001b[0m \u001b[0mpyspark\u001b[0m\u001b[0;34m.\u001b[0m\u001b[0msql\u001b[0m \u001b[0;32mimport\u001b[0m \u001b[0mWindow\u001b[0m\u001b[0;34m\u001b[0m\u001b[0;34m\u001b[0m\u001b[0m\n",
      "\u001b[0;31mModuleNotFoundError\u001b[0m: No module named 'pyspark'"
     ]
    }
   ],
   "source": [
    "# Import of the data \n",
    "# This can take a while \n",
    "\n",
    "import pyspark.sql.types as T\n",
    "import pyspark.sql.functions as F\n",
    "from pyspark.sql import Window\n",
    "\n",
    "DAU_SCHEMA = T.StructType([\n",
    "    T.StructField('userId', T.StringType()),\n",
    "    T.StructField('createdAt', T.StringType()),\n",
    "    T.StructField(\n",
    "        'data', T.StructType([\n",
    "            T.StructField('score', T.LongType()),\n",
    "        ]),\n",
    "    ),\n",
    "])\n",
    "\n",
    "PATH = \"s3a://alpha-health-pro/red/evermind/events/2020/*/*/*/*\"\n",
    "evermindDF_raw = spark.read.schema(schema=DAU_SCHEMA).json(PATH)\n",
    "evermindDF_raw.count()"
   ]
  },
  {
   "cell_type": "code",
   "execution_count": 2,
   "metadata": {},
   "outputs": [
    {
     "name": "stderr",
     "output_type": "stream",
     "text": [
      "/Users/yc00123/.virtualenvs/py3.6.8-data-access/lib/python3.6/site-packages/pandas/compat/__init__.py:117: UserWarning: Could not import the lzma module. Your installed Python is incomplete. Attempting to use lzma compression will result in a RuntimeError.\n",
      "  warnings.warn(msg)\n"
     ]
    }
   ],
   "source": [
    "# Transform data into a pandas dataframe\n",
    "df = evermindDF_raw\\\n",
    "    .withColumn(\"date\", F.date_format(F.to_timestamp(F.col(\"createdAt\")), \"yyyy-MM-dd\"))\\\n",
    "    .toPandas()"
   ]
  },
  {
   "cell_type": "code",
   "execution_count": 3,
   "metadata": {},
   "outputs": [
    {
     "data": {
      "text/html": [
       "<div>\n",
       "<style scoped>\n",
       "    .dataframe tbody tr th:only-of-type {\n",
       "        vertical-align: middle;\n",
       "    }\n",
       "\n",
       "    .dataframe tbody tr th {\n",
       "        vertical-align: top;\n",
       "    }\n",
       "\n",
       "    .dataframe thead th {\n",
       "        text-align: right;\n",
       "    }\n",
       "</style>\n",
       "<table border=\"1\" class=\"dataframe\">\n",
       "  <thead>\n",
       "    <tr style=\"text-align: right;\">\n",
       "      <th></th>\n",
       "      <th>userId</th>\n",
       "      <th>createdAt</th>\n",
       "      <th>data</th>\n",
       "      <th>date</th>\n",
       "    </tr>\n",
       "  </thead>\n",
       "  <tbody>\n",
       "    <tr>\n",
       "      <th>0</th>\n",
       "      <td>164d3b3b-a4b3-47bd-9291-80cf1fdab99e</td>\n",
       "      <td>2020-03-20T08:33:41.209147+01:00</td>\n",
       "      <td>(None,)</td>\n",
       "      <td>2020-03-20</td>\n",
       "    </tr>\n",
       "    <tr>\n",
       "      <th>1</th>\n",
       "      <td>164d3b3b-a4b3-47bd-9291-80cf1fdab99e</td>\n",
       "      <td>2020-03-20T08:33:41.211297+01:00</td>\n",
       "      <td>(None,)</td>\n",
       "      <td>2020-03-20</td>\n",
       "    </tr>\n",
       "    <tr>\n",
       "      <th>2</th>\n",
       "      <td>164d3b3b-a4b3-47bd-9291-80cf1fdab99e</td>\n",
       "      <td>2020-03-20T08:33:41.239939+01:00</td>\n",
       "      <td>(None,)</td>\n",
       "      <td>2020-03-20</td>\n",
       "    </tr>\n",
       "    <tr>\n",
       "      <th>3</th>\n",
       "      <td>164d3b3b-a4b3-47bd-9291-80cf1fdab99e</td>\n",
       "      <td>2020-03-20T08:33:41.572488+01:00</td>\n",
       "      <td>(None,)</td>\n",
       "      <td>2020-03-20</td>\n",
       "    </tr>\n",
       "    <tr>\n",
       "      <th>4</th>\n",
       "      <td>164d3b3b-a4b3-47bd-9291-80cf1fdab99e</td>\n",
       "      <td>2020-03-20T08:33:41.573622+01:00</td>\n",
       "      <td>(None,)</td>\n",
       "      <td>2020-03-20</td>\n",
       "    </tr>\n",
       "  </tbody>\n",
       "</table>\n",
       "</div>"
      ],
      "text/plain": [
       "                                 userId                         createdAt  \\\n",
       "0  164d3b3b-a4b3-47bd-9291-80cf1fdab99e  2020-03-20T08:33:41.209147+01:00   \n",
       "1  164d3b3b-a4b3-47bd-9291-80cf1fdab99e  2020-03-20T08:33:41.211297+01:00   \n",
       "2  164d3b3b-a4b3-47bd-9291-80cf1fdab99e  2020-03-20T08:33:41.239939+01:00   \n",
       "3  164d3b3b-a4b3-47bd-9291-80cf1fdab99e  2020-03-20T08:33:41.572488+01:00   \n",
       "4  164d3b3b-a4b3-47bd-9291-80cf1fdab99e  2020-03-20T08:33:41.573622+01:00   \n",
       "\n",
       "      data        date  \n",
       "0  (None,)  2020-03-20  \n",
       "1  (None,)  2020-03-20  \n",
       "2  (None,)  2020-03-20  \n",
       "3  (None,)  2020-03-20  \n",
       "4  (None,)  2020-03-20  "
      ]
     },
     "execution_count": 3,
     "metadata": {},
     "output_type": "execute_result"
    }
   ],
   "source": [
    "df.head()"
   ]
  },
  {
   "cell_type": "code",
   "execution_count": 4,
   "metadata": {},
   "outputs": [],
   "source": [
    "import re\n",
    "import numpy as np \n",
    "\n",
    "def getKey(k, raw):\n",
    "    \"\"\"\n",
    "    Function used to return the content for different keys in the data array. \n",
    "    This function will be used to create new columns for scores etc.\n",
    "    \"\"\"\n",
    "    if isinstance(raw, float):\n",
    "        return(float('NaN'))\n",
    "    \n",
    "    raw = str(raw)\n",
    "    #.replace('None', np.NaN)\n",
    "    \n",
    "    if k == 'score':\n",
    "        num = re.search('{}=(\\d+)'.format(k), raw)\n",
    "        if num:\n",
    "            num = int(num.group(1))\n",
    "            if num:\n",
    "                return(num)\n",
    "\n",
    "    if k == 'answers': \n",
    "        ary = re.search(r\"\\[(.*)\\]\".format(k), raw)\n",
    "        print(ary)\n",
    "        if ary:\n",
    "            ary = ary.group()\n",
    "            ary = re.sub('\\D', ' ', ary)\n",
    "            ary = ary.split()\n",
    "            return(ary)\n",
    "    \n",
    "    # if string\n",
    "    sub_string = re.search('{}=(.+?),'.format(k), raw)\n",
    "    if sub_string:\n",
    "        string = sub_string.group(1)\n",
    "        string = string.replace(\"'\", \"\")\n",
    "        return(string)\n",
    "\n",
    "df['score'] = df['data'].apply(lambda x: getKey('score', x))"
   ]
  },
  {
   "cell_type": "code",
   "execution_count": 6,
   "metadata": {},
   "outputs": [
    {
     "name": "stderr",
     "output_type": "stream",
     "text": [
      "/Users/yc00123/.virtualenvs/py3.6.8-data-access/lib/python3.6/site-packages/ipykernel_launcher.py:9: FutureWarning: Indexing with multiple keys (implicitly converted to a tuple of keys) will be deprecated, use a list instead.\n",
      "  if __name__ == '__main__':\n"
     ]
    }
   ],
   "source": [
    "import pandas as pd\n",
    "#Creation of a new dataframe with the times and scores per user\n",
    "df['date'] = pd.to_datetime(df['date'])\n",
    "df.dropna(subset = ['score'], inplace=True)\n",
    "df.sort_values(['userId', 'date'])\n",
    "valid_ids = df['userId'].unique()\n",
    "timeScore = df[(df['userId'].isin(valid_ids))]\n",
    "timeScore = timeScore.groupby('userId')\n",
    "timeScore = timeScore['date', 'score'].agg(list)"
   ]
  },
  {
   "cell_type": "code",
   "execution_count": 7,
   "metadata": {},
   "outputs": [],
   "source": [
    "#Get the difference in scores between assessments\n",
    "def get_scoreDiff(scores):\n",
    "    differences = []\n",
    "    if len(scores) == 2:\n",
    "        diff = int(scores[0]) - int(scores[1])\n",
    "        return diff\n",
    "    else:\n",
    "        return np.nan\n",
    "timeScore['scoreDiff'] = timeScore['score'].apply(lambda x: get_scoreDiff(x))"
   ]
  },
  {
   "cell_type": "code",
   "execution_count": 8,
   "metadata": {},
   "outputs": [],
   "source": [
    "#Get the time difference between assessments\n",
    "def get_timeDiff(time):\n",
    "    differences = []\n",
    "    if len(time) == 2:\n",
    "        diff = time[0] - time[1]\n",
    "        return diff\n",
    "    else:\n",
    "        return np.nan\n",
    "\n",
    "timeScore['timeDiff'] = timeScore['date'].apply(lambda x: get_timeDiff(x))"
   ]
  },
  {
   "cell_type": "code",
   "execution_count": 9,
   "metadata": {},
   "outputs": [],
   "source": [
    "timeScore.dropna(subset = ['scoreDiff'], inplace=True)"
   ]
  },
  {
   "cell_type": "code",
   "execution_count": 10,
   "metadata": {},
   "outputs": [],
   "source": [
    "#Exclude all the users that did the assessment more than once in one day\n",
    "from datetime import timedelta\n",
    "timeScore = timeScore[timeScore.timeDiff > timedelta(1)]"
   ]
  },
  {
   "cell_type": "code",
   "execution_count": 11,
   "metadata": {},
   "outputs": [],
   "source": [
    "#Get categories for the time difference\n",
    "def get_repeated(diff):\n",
    "\n",
    "    if diff > timedelta(1) and diff < timedelta(4):\n",
    "        return 'few days'\n",
    "    elif diff >= timedelta(4) and diff < timedelta(8):\n",
    "        return 'week'\n",
    "    elif diff >= timedelta(8) and diff < timedelta(12):\n",
    "        return 'more than a week'\n",
    "    elif diff >= timedelta(12) and diff < timedelta(15):\n",
    "        return 'two weeks'\n",
    "    elif diff >= timedelta(15):\n",
    "        return 'more'\n",
    "\n",
    "timeScore['repeated'] = timeScore['timeDiff'].apply(lambda x: get_repeated(x))    "
   ]
  },
  {
   "cell_type": "code",
   "execution_count": 12,
   "metadata": {},
   "outputs": [
    {
     "data": {
      "text/html": [
       "<div>\n",
       "<style scoped>\n",
       "    .dataframe tbody tr th:only-of-type {\n",
       "        vertical-align: middle;\n",
       "    }\n",
       "\n",
       "    .dataframe tbody tr th {\n",
       "        vertical-align: top;\n",
       "    }\n",
       "\n",
       "    .dataframe thead th {\n",
       "        text-align: right;\n",
       "    }\n",
       "</style>\n",
       "<table border=\"1\" class=\"dataframe\">\n",
       "  <thead>\n",
       "    <tr style=\"text-align: right;\">\n",
       "      <th></th>\n",
       "      <th>date</th>\n",
       "      <th>score</th>\n",
       "      <th>scoreDiff</th>\n",
       "      <th>timeDiff</th>\n",
       "    </tr>\n",
       "    <tr>\n",
       "      <th>repeated</th>\n",
       "      <th></th>\n",
       "      <th></th>\n",
       "      <th></th>\n",
       "      <th></th>\n",
       "    </tr>\n",
       "  </thead>\n",
       "  <tbody>\n",
       "    <tr>\n",
       "      <th>few days</th>\n",
       "      <td>1</td>\n",
       "      <td>1</td>\n",
       "      <td>1</td>\n",
       "      <td>1</td>\n",
       "    </tr>\n",
       "    <tr>\n",
       "      <th>more</th>\n",
       "      <td>16</td>\n",
       "      <td>16</td>\n",
       "      <td>16</td>\n",
       "      <td>16</td>\n",
       "    </tr>\n",
       "    <tr>\n",
       "      <th>more than a week</th>\n",
       "      <td>8</td>\n",
       "      <td>8</td>\n",
       "      <td>8</td>\n",
       "      <td>8</td>\n",
       "    </tr>\n",
       "    <tr>\n",
       "      <th>two weeks</th>\n",
       "      <td>2</td>\n",
       "      <td>2</td>\n",
       "      <td>2</td>\n",
       "      <td>2</td>\n",
       "    </tr>\n",
       "    <tr>\n",
       "      <th>week</th>\n",
       "      <td>2</td>\n",
       "      <td>2</td>\n",
       "      <td>2</td>\n",
       "      <td>2</td>\n",
       "    </tr>\n",
       "  </tbody>\n",
       "</table>\n",
       "</div>"
      ],
      "text/plain": [
       "                  date  score  scoreDiff  timeDiff\n",
       "repeated                                          \n",
       "few days             1      1          1         1\n",
       "more                16     16         16        16\n",
       "more than a week     8      8          8         8\n",
       "two weeks            2      2          2         2\n",
       "week                 2      2          2         2"
      ]
     },
     "execution_count": 12,
     "metadata": {},
     "output_type": "execute_result"
    }
   ],
   "source": [
    "timeScore.groupby(\"repeated\").count()"
   ]
  },
  {
   "cell_type": "code",
   "execution_count": 38,
   "metadata": {},
   "outputs": [
    {
     "data": {
      "image/png": "[encoded data removed]",
      "text/plain": [
       "<Figure size 432x288 with 1 Axes>"
      ]
     },
     "metadata": {
      "needs_background": "light"
     },
     "output_type": "display_data"
    }
   ],
   "source": [
    "import matplotlib.pyplot as plt\n",
    "n, bins, patches = plt.hist(x=timeScore['scoreDiff'], bins='auto', color='orange',\n",
    "                            alpha=0.7, rwidth=0.85)\n",
    "plt.grid(axis='y', alpha=0.75)\n",
    "plt.xlabel('absolute increase/decrease')\n",
    "plt.ylabel('Frequency')\n",
    "plt.title('Difference of PSS per user between assessments')\n",
    "maxfreq = n.max()\n",
    "\n",
    "plt.ylim(0, 11)\n",
    "plt.savefig('differencePSS.png', dpi = 180, bbox_inches=\"tight\")"
   ]
  },
  {
   "cell_type": "code",
   "execution_count": null,
   "metadata": {},
   "outputs": [],
   "source": []
  }
 ],
 "metadata": {
  "kernelspec": {
   "display_name": "Python 3",
   "language": "python",
   "name": "python3"
  },
  "language_info": {
   "codemirror_mode": {
    "name": "ipython",
    "version": 3
   },
   "file_extension": ".py",
   "mimetype": "text/x-python",
   "name": "python",
   "nbconvert_exporter": "python",
   "pygments_lexer": "ipython3",
   "version": "3.7.4"
  }
 },
 "nbformat": 4,
 "nbformat_minor": 4
}
