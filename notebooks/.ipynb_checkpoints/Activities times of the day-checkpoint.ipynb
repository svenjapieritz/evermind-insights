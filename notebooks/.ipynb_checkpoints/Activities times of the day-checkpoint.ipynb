{
 "cells": [
  {
   "cell_type": "code",
   "execution_count": 1,
   "metadata": {},
   "outputs": [
    {
     "data": {
      "text/plain": [
       "617053"
      ]
     },
     "execution_count": 1,
     "metadata": {},
     "output_type": "execute_result"
    }
   ],
   "source": [
    "# Import of the data \n",
    "# This can take a while \n",
    "\n",
    "import pyspark.sql.types as T\n",
    "import pyspark.sql.functions as F\n",
    "from pyspark.sql import Window\n",
    "\n",
    "DAU_SCHEMA = T.StructType([\n",
    "    T.StructField('userId', T.StringType()),\n",
    "    T.StructField('createdAt', T.StringType()),\n",
    "    T.StructField(\n",
    "        'data', T.StructType([\n",
    "            T.StructField('activity-title', T.StringType()),\n",
    "        ]),\n",
    "    ),\n",
    "])\n",
    "\n",
    "PATH = \"s3a://alpha-health-pro/red/evermind/events/2020/*/*/*/*\"\n",
    "evermindDF_raw = spark.read.schema(schema=DAU_SCHEMA).json(PATH)\n",
    "evermindDF_raw.count()"
   ]
  },
  {
   "cell_type": "code",
   "execution_count": 2,
   "metadata": {},
   "outputs": [
    {
     "name": "stderr",
     "output_type": "stream",
     "text": [
      "/Users/yc00123/.virtualenvs/py3.6.8-data-access/lib/python3.6/site-packages/pandas/compat/__init__.py:117: UserWarning: Could not import the lzma module. Your installed Python is incomplete. Attempting to use lzma compression will result in a RuntimeError.\n",
      "  warnings.warn(msg)\n"
     ]
    }
   ],
   "source": [
    "df = evermindDF_raw\\\n",
    "    .withColumn(\"date\", F.date_format(F.to_timestamp(F.col(\"createdAt\")), \"yyyy-MM-dd\"))\\\n",
    "    .toPandas()"
   ]
  },
  {
   "cell_type": "code",
   "execution_count": 3,
   "metadata": {},
   "outputs": [],
   "source": [
    "df.dropna(subset = ['data'], inplace=True)"
   ]
  },
  {
   "cell_type": "code",
   "execution_count": 4,
   "metadata": {},
   "outputs": [],
   "source": [
    "import pandas as pd\n",
    "def get_data(x):\n",
    "    return x[0]\n",
    "\n",
    "df['activity'] = df['data'].apply(lambda x: get_data(x))"
   ]
  },
  {
   "cell_type": "code",
   "execution_count": 5,
   "metadata": {},
   "outputs": [],
   "source": [
    "import datetime as dt\n",
    "df['createdAt']= pd.to_datetime(df['createdAt'], utc=True) \n",
    "df['hour'] = df['createdAt'].dt.hour"
   ]
  },
  {
   "cell_type": "code",
   "execution_count": 6,
   "metadata": {},
   "outputs": [],
   "source": [
    "# Categorisation of the hours of the day\n",
    "def get_hour_categories(x):\n",
    "    if x<=10 :\n",
    "        return '0-10'\n",
    "    elif 10 < x <= 13:\n",
    "        return '10-13'\n",
    "    elif 13 < x <= 16:\n",
    "        return '13-16'\n",
    "    elif 16 < x <= 19:\n",
    "        return '16-19'\n",
    "    elif 19 < x <= 22:\n",
    "        return '19-22'\n",
    "    elif x > 22:\n",
    "        return 'after 22'\n",
    "\n",
    "df['hour_cat'] = df['hour'].apply(lambda x: get_hour_categories(x))"
   ]
  },
  {
   "cell_type": "code",
   "execution_count": 7,
   "metadata": {},
   "outputs": [
    {
     "data": {
      "text/html": [
       "<div>\n",
       "<style scoped>\n",
       "    .dataframe tbody tr th:only-of-type {\n",
       "        vertical-align: middle;\n",
       "    }\n",
       "\n",
       "    .dataframe tbody tr th {\n",
       "        vertical-align: top;\n",
       "    }\n",
       "\n",
       "    .dataframe thead th {\n",
       "        text-align: right;\n",
       "    }\n",
       "</style>\n",
       "<table border=\"1\" class=\"dataframe\">\n",
       "  <thead>\n",
       "    <tr style=\"text-align: right;\">\n",
       "      <th></th>\n",
       "      <th>hour_cat</th>\n",
       "      <th>activity</th>\n",
       "      <th>count</th>\n",
       "    </tr>\n",
       "  </thead>\n",
       "  <tbody>\n",
       "    <tr>\n",
       "      <th>0</th>\n",
       "      <td>0-10</td>\n",
       "      <td>Achievements</td>\n",
       "      <td>27</td>\n",
       "    </tr>\n",
       "    <tr>\n",
       "      <th>1</th>\n",
       "      <td>0-10</td>\n",
       "      <td>Autogenic training for sleep</td>\n",
       "      <td>483</td>\n",
       "    </tr>\n",
       "    <tr>\n",
       "      <th>2</th>\n",
       "      <td>0-10</td>\n",
       "      <td>Automatic thoughts and self-confidence</td>\n",
       "      <td>225</td>\n",
       "    </tr>\n",
       "    <tr>\n",
       "      <th>3</th>\n",
       "      <td>0-10</td>\n",
       "      <td>Balance your thoughts</td>\n",
       "      <td>197</td>\n",
       "    </tr>\n",
       "    <tr>\n",
       "      <th>4</th>\n",
       "      <td>0-10</td>\n",
       "      <td>Balancing thoughts</td>\n",
       "      <td>170</td>\n",
       "    </tr>\n",
       "  </tbody>\n",
       "</table>\n",
       "</div>"
      ],
      "text/plain": [
       "  hour_cat                                activity  count\n",
       "0     0-10                            Achievements     27\n",
       "1     0-10            Autogenic training for sleep    483\n",
       "2     0-10  Automatic thoughts and self-confidence    225\n",
       "3     0-10                   Balance your thoughts    197\n",
       "4     0-10                      Balancing thoughts    170"
      ]
     },
     "execution_count": 7,
     "metadata": {},
     "output_type": "execute_result"
    }
   ],
   "source": [
    "df2 = df.groupby(['hour_cat', 'activity'])\n",
    "df2 = df2['activity'].count().reset_index(name=\"count\")\n",
    "df2.head()"
   ]
  },
  {
   "cell_type": "code",
   "execution_count": 8,
   "metadata": {},
   "outputs": [
    {
     "data": {
      "text/html": [
       "<div>\n",
       "<style scoped>\n",
       "    .dataframe tbody tr th:only-of-type {\n",
       "        vertical-align: middle;\n",
       "    }\n",
       "\n",
       "    .dataframe tbody tr th {\n",
       "        vertical-align: top;\n",
       "    }\n",
       "\n",
       "    .dataframe thead th {\n",
       "        text-align: right;\n",
       "    }\n",
       "</style>\n",
       "<table border=\"1\" class=\"dataframe\">\n",
       "  <thead>\n",
       "    <tr style=\"text-align: right;\">\n",
       "      <th></th>\n",
       "      <th>hour_cat</th>\n",
       "      <th>activity</th>\n",
       "      <th>count</th>\n",
       "    </tr>\n",
       "  </thead>\n",
       "  <tbody>\n",
       "    <tr>\n",
       "      <th>16</th>\n",
       "      <td>0-10</td>\n",
       "      <td>Echo</td>\n",
       "      <td>19060</td>\n",
       "    </tr>\n",
       "    <tr>\n",
       "      <th>30</th>\n",
       "      <td>0-10</td>\n",
       "      <td>Keeping a thought record</td>\n",
       "      <td>9958</td>\n",
       "    </tr>\n",
       "    <tr>\n",
       "      <th>15</th>\n",
       "      <td>0-10</td>\n",
       "      <td>Dominating doubt and uncertainty</td>\n",
       "      <td>4122</td>\n",
       "    </tr>\n",
       "    <tr>\n",
       "      <th>48</th>\n",
       "      <td>0-10</td>\n",
       "      <td>Recognising unhelpful thoughts</td>\n",
       "      <td>2080</td>\n",
       "    </tr>\n",
       "    <tr>\n",
       "      <th>5</th>\n",
       "      <td>0-10</td>\n",
       "      <td>Beginner's progressive muscle relaxation</td>\n",
       "      <td>2022</td>\n",
       "    </tr>\n",
       "    <tr>\n",
       "      <th>...</th>\n",
       "      <td>...</td>\n",
       "      <td>...</td>\n",
       "      <td>...</td>\n",
       "    </tr>\n",
       "    <tr>\n",
       "      <th>423</th>\n",
       "      <td>after 22</td>\n",
       "      <td>Creating balanced thoughts</td>\n",
       "      <td>8</td>\n",
       "    </tr>\n",
       "    <tr>\n",
       "      <th>416</th>\n",
       "      <td>after 22</td>\n",
       "      <td>Balance your thoughts</td>\n",
       "      <td>6</td>\n",
       "    </tr>\n",
       "    <tr>\n",
       "      <th>437</th>\n",
       "      <td>after 22</td>\n",
       "      <td>Identifying your bad sleep habits</td>\n",
       "      <td>6</td>\n",
       "    </tr>\n",
       "    <tr>\n",
       "      <th>486</th>\n",
       "      <td>after 22</td>\n",
       "      <td>Your cosy place</td>\n",
       "      <td>5</td>\n",
       "    </tr>\n",
       "    <tr>\n",
       "      <th>474</th>\n",
       "      <td>after 22</td>\n",
       "      <td>To take with me</td>\n",
       "      <td>1</td>\n",
       "    </tr>\n",
       "  </tbody>\n",
       "</table>\n",
       "<p>488 rows × 3 columns</p>\n",
       "</div>"
      ],
      "text/plain": [
       "     hour_cat                                  activity  count\n",
       "16       0-10                                      Echo  19060\n",
       "30       0-10                  Keeping a thought record   9958\n",
       "15       0-10          Dominating doubt and uncertainty   4122\n",
       "48       0-10            Recognising unhelpful thoughts   2080\n",
       "5        0-10  Beginner's progressive muscle relaxation   2022\n",
       "..        ...                                       ...    ...\n",
       "423  after 22                Creating balanced thoughts      8\n",
       "416  after 22                     Balance your thoughts      6\n",
       "437  after 22         Identifying your bad sleep habits      6\n",
       "486  after 22                           Your cosy place      5\n",
       "474  after 22                           To take with me      1\n",
       "\n",
       "[488 rows x 3 columns]"
      ]
     },
     "execution_count": 8,
     "metadata": {},
     "output_type": "execute_result"
    }
   ],
   "source": [
    "df2.sort_values(by=['hour_cat','count'], ascending=[True, False])"
   ]
  },
  {
   "cell_type": "code",
   "execution_count": 13,
   "metadata": {},
   "outputs": [
    {
     "data": {
      "text/plain": [
       "<seaborn.axisgrid.FacetGrid at 0x130f25be0>"
      ]
     },
     "execution_count": 13,
     "metadata": {},
     "output_type": "execute_result"
    },
    {
     "data": {
      "image/png": "[encoded data removed]",
      "text/plain": [
       "<Figure size 936x360 with 1 Axes>"
      ]
     },
     "metadata": {
      "needs_background": "light"
     },
     "output_type": "display_data"
    }
   ],
   "source": [
    "import seaborn as sns\n",
    "import matplotlib as plt\n",
    "a = df2[df2['hour_cat']=='0-10'][:5]\n",
    "fig = sns.catplot(x=\"activity\", y=\"count\", kind=\"bar\", data =a, aspect=2.6)\n",
    "fig.set_axis_labels('Top 5 activities', 'Count events between 0-10')"
   ]
  },
  {
   "cell_type": "code",
   "execution_count": 15,
   "metadata": {},
   "outputs": [
    {
     "data": {
      "text/plain": [
       "<seaborn.axisgrid.FacetGrid at 0x12705af28>"
      ]
     },
     "execution_count": 15,
     "metadata": {},
     "output_type": "execute_result"
    },
    {
     "data": {
      "image/png": "[encoded data removed]",
      "text/plain": [
       "<Figure size 936x360 with 1 Axes>"
      ]
     },
     "metadata": {
      "needs_background": "light"
     },
     "output_type": "display_data"
    }
   ],
   "source": [
    "b = df2[df2['hour_cat']=='10-13'][:5]\n",
    "fig = sns.catplot(x=\"activity\", y=\"count\", kind=\"bar\", data =b, aspect=2.6)\n",
    "fig.set_axis_labels('Top 5 activities', 'Count events between 10-13')"
   ]
  },
  {
   "cell_type": "code",
   "execution_count": 16,
   "metadata": {},
   "outputs": [
    {
     "data": {
      "text/plain": [
       "<seaborn.axisgrid.FacetGrid at 0x128519588>"
      ]
     },
     "execution_count": 16,
     "metadata": {},
     "output_type": "execute_result"
    },
    {
     "data": {
      "image/png": "[encoded data removed]",
      "text/plain": [
       "<Figure size 936x360 with 1 Axes>"
      ]
     },
     "metadata": {
      "needs_background": "light"
     },
     "output_type": "display_data"
    }
   ],
   "source": [
    "c = df2[df2['hour_cat']=='13-16'][:5]\n",
    "fig = sns.catplot(x=\"activity\", y=\"count\", kind=\"bar\", data =c, aspect=2.6)\n",
    "fig.set_axis_labels('Top 5 activities', 'Count events between 13-16')"
   ]
  },
  {
   "cell_type": "code",
   "execution_count": 17,
   "metadata": {},
   "outputs": [
    {
     "data": {
      "text/plain": [
       "<seaborn.axisgrid.FacetGrid at 0x12812f518>"
      ]
     },
     "execution_count": 17,
     "metadata": {},
     "output_type": "execute_result"
    },
    {
     "data": {
      "image/png": "[encoded data removed]",
      "text/plain": [
       "<Figure size 936x360 with 1 Axes>"
      ]
     },
     "metadata": {
      "needs_background": "light"
     },
     "output_type": "display_data"
    }
   ],
   "source": [
    "d = df2[df2['hour_cat']=='16-19'][:5]\n",
    "fig = sns.catplot(x=\"activity\", y=\"count\", kind=\"bar\", data =d, aspect=2.6)\n",
    "fig.set_axis_labels('Top 5 activities', 'Count events between 16-19')"
   ]
  },
  {
   "cell_type": "code",
   "execution_count": 18,
   "metadata": {},
   "outputs": [
    {
     "data": {
      "text/plain": [
       "<seaborn.axisgrid.FacetGrid at 0x129a49f28>"
      ]
     },
     "execution_count": 18,
     "metadata": {},
     "output_type": "execute_result"
    },
    {
     "data": {
      "image/png": "[encoded data removed]",
      "text/plain": [
       "<Figure size 936x360 with 1 Axes>"
      ]
     },
     "metadata": {
      "needs_background": "light"
     },
     "output_type": "display_data"
    }
   ],
   "source": [
    "e = df2[df2['hour_cat']=='19-22'][:5]\n",
    "fig = sns.catplot(x=\"activity\", y=\"count\", kind=\"bar\", data =e, aspect=2.6)\n",
    "fig.set_axis_labels('Top 5 activities', 'Count events between 19-22')"
   ]
  },
  {
   "cell_type": "code",
   "execution_count": 19,
   "metadata": {},
   "outputs": [
    {
     "data": {
      "text/plain": [
       "<seaborn.axisgrid.FacetGrid at 0x129a19b70>"
      ]
     },
     "execution_count": 19,
     "metadata": {},
     "output_type": "execute_result"
    },
    {
     "data": {
      "image/png": "[encoded data removed]",
      "text/plain": [
       "<Figure size 936x360 with 1 Axes>"
      ]
     },
     "metadata": {
      "needs_background": "light"
     },
     "output_type": "display_data"
    }
   ],
   "source": [
    "f = df2[df2['hour_cat']=='after 22'][:5]\n",
    "fig = sns.catplot(x=\"activity\", y=\"count\", kind=\"bar\", data =f, aspect=2.6)\n",
    "fig.set_axis_labels('Top 5 activities', 'Count events after 22')"
   ]
  },
  {
   "cell_type": "code",
   "execution_count": null,
   "metadata": {},
   "outputs": [],
   "source": []
  }
 ],
 "metadata": {
  "kernelspec": {
   "display_name": "Python 3",
   "language": "python",
   "name": "python3"
  },
  "language_info": {
   "codemirror_mode": {
    "name": "ipython",
    "version": 3
   },
   "file_extension": ".py",
   "mimetype": "text/x-python",
   "name": "python",
   "nbconvert_exporter": "python",
   "pygments_lexer": "ipython3",
   "version": "3.6.8"
  }
 },
 "nbformat": 4,
 "nbformat_minor": 4
}
